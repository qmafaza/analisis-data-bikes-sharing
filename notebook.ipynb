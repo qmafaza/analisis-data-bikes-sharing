{
 "cells": [
  {
   "cell_type": "markdown",
   "metadata": {
    "id": "H9wADwK78DCz"
   },
   "source": [
    "# Proyek Analisis Data: Bike Sharing Dataset\n",
    "- **Nama:** Muhammad Qayyim Mafaza\n",
    "- **Email:** qmafaza@student.uns.ac.id\n",
    "- **ID Dicoding:** 555"
   ]
  },
  {
   "cell_type": "markdown",
   "metadata": {
    "id": "eE0raob58DC0"
   },
   "source": [
    "## Menentukan Pertanyaan Bisnis"
   ]
  },
  {
   "cell_type": "markdown",
   "metadata": {
    "id": "GmQeQ5YF8DC0"
   },
   "source": [
    "- Bagaimana pengaruh kondisi cuaca terhadap jumlah penyewaan sepeda?\n",
    "- Apakah penggunaan sepeda lebih tinggi pada hari kerja atau akhir pekan, dan apakah hari libur berpengaruh terhadap penggunaan?"
   ]
  },
  {
   "cell_type": "markdown",
   "metadata": {
    "id": "H-z4QGlO8DC1"
   },
   "source": [
    "## Import Semua Packages/Library yang Digunakan"
   ]
  },
  {
   "cell_type": "code",
   "execution_count": 1,
   "metadata": {
    "id": "FVYwaObI8DC1"
   },
   "outputs": [],
   "source": [
    "import numpy as np\n",
    "import pandas as pd\n",
    "import matplotlib.pyplot as plt\n",
    "import seaborn as sns\n",
    "import streamlit as st"
   ]
  },
  {
   "cell_type": "markdown",
   "metadata": {
    "id": "h_Sh51Xy8DC1"
   },
   "source": [
    "## Data Wrangling"
   ]
  },
  {
   "cell_type": "markdown",
   "metadata": {
    "id": "sXU2GBYu8DC1"
   },
   "source": [
    "### Gathering Data"
   ]
  },
  {
   "cell_type": "markdown",
   "metadata": {},
   "source": [
    "Pada dataset kali ini data yang digunakan terdiri dari 2 tabel. Tabel tersebut akan dimuat satu per satu sebagai berikut.\n",
    "\n",
    "- **Memuat Tabel Day (Data Per Hari)**"
   ]
  },
  {
   "cell_type": "code",
   "execution_count": 2,
   "metadata": {
    "id": "zjCBk1BI8DC1"
   },
   "outputs": [
    {
     "data": {
      "text/html": [
       "<div>\n",
       "<style scoped>\n",
       "    .dataframe tbody tr th:only-of-type {\n",
       "        vertical-align: middle;\n",
       "    }\n",
       "\n",
       "    .dataframe tbody tr th {\n",
       "        vertical-align: top;\n",
       "    }\n",
       "\n",
       "    .dataframe thead th {\n",
       "        text-align: right;\n",
       "    }\n",
       "</style>\n",
       "<table border=\"1\" class=\"dataframe\">\n",
       "  <thead>\n",
       "    <tr style=\"text-align: right;\">\n",
       "      <th></th>\n",
       "      <th>instant</th>\n",
       "      <th>dteday</th>\n",
       "      <th>season</th>\n",
       "      <th>yr</th>\n",
       "      <th>mnth</th>\n",
       "      <th>holiday</th>\n",
       "      <th>weekday</th>\n",
       "      <th>workingday</th>\n",
       "      <th>weathersit</th>\n",
       "      <th>temp</th>\n",
       "      <th>atemp</th>\n",
       "      <th>hum</th>\n",
       "      <th>windspeed</th>\n",
       "      <th>casual</th>\n",
       "      <th>registered</th>\n",
       "      <th>cnt</th>\n",
       "    </tr>\n",
       "  </thead>\n",
       "  <tbody>\n",
       "    <tr>\n",
       "      <th>0</th>\n",
       "      <td>1</td>\n",
       "      <td>2011-01-01</td>\n",
       "      <td>1</td>\n",
       "      <td>0</td>\n",
       "      <td>1</td>\n",
       "      <td>0</td>\n",
       "      <td>6</td>\n",
       "      <td>0</td>\n",
       "      <td>2</td>\n",
       "      <td>0.344167</td>\n",
       "      <td>0.363625</td>\n",
       "      <td>0.805833</td>\n",
       "      <td>0.160446</td>\n",
       "      <td>331</td>\n",
       "      <td>654</td>\n",
       "      <td>985</td>\n",
       "    </tr>\n",
       "    <tr>\n",
       "      <th>1</th>\n",
       "      <td>2</td>\n",
       "      <td>2011-01-02</td>\n",
       "      <td>1</td>\n",
       "      <td>0</td>\n",
       "      <td>1</td>\n",
       "      <td>0</td>\n",
       "      <td>0</td>\n",
       "      <td>0</td>\n",
       "      <td>2</td>\n",
       "      <td>0.363478</td>\n",
       "      <td>0.353739</td>\n",
       "      <td>0.696087</td>\n",
       "      <td>0.248539</td>\n",
       "      <td>131</td>\n",
       "      <td>670</td>\n",
       "      <td>801</td>\n",
       "    </tr>\n",
       "    <tr>\n",
       "      <th>2</th>\n",
       "      <td>3</td>\n",
       "      <td>2011-01-03</td>\n",
       "      <td>1</td>\n",
       "      <td>0</td>\n",
       "      <td>1</td>\n",
       "      <td>0</td>\n",
       "      <td>1</td>\n",
       "      <td>1</td>\n",
       "      <td>1</td>\n",
       "      <td>0.196364</td>\n",
       "      <td>0.189405</td>\n",
       "      <td>0.437273</td>\n",
       "      <td>0.248309</td>\n",
       "      <td>120</td>\n",
       "      <td>1229</td>\n",
       "      <td>1349</td>\n",
       "    </tr>\n",
       "    <tr>\n",
       "      <th>3</th>\n",
       "      <td>4</td>\n",
       "      <td>2011-01-04</td>\n",
       "      <td>1</td>\n",
       "      <td>0</td>\n",
       "      <td>1</td>\n",
       "      <td>0</td>\n",
       "      <td>2</td>\n",
       "      <td>1</td>\n",
       "      <td>1</td>\n",
       "      <td>0.200000</td>\n",
       "      <td>0.212122</td>\n",
       "      <td>0.590435</td>\n",
       "      <td>0.160296</td>\n",
       "      <td>108</td>\n",
       "      <td>1454</td>\n",
       "      <td>1562</td>\n",
       "    </tr>\n",
       "    <tr>\n",
       "      <th>4</th>\n",
       "      <td>5</td>\n",
       "      <td>2011-01-05</td>\n",
       "      <td>1</td>\n",
       "      <td>0</td>\n",
       "      <td>1</td>\n",
       "      <td>0</td>\n",
       "      <td>3</td>\n",
       "      <td>1</td>\n",
       "      <td>1</td>\n",
       "      <td>0.226957</td>\n",
       "      <td>0.229270</td>\n",
       "      <td>0.436957</td>\n",
       "      <td>0.186900</td>\n",
       "      <td>82</td>\n",
       "      <td>1518</td>\n",
       "      <td>1600</td>\n",
       "    </tr>\n",
       "  </tbody>\n",
       "</table>\n",
       "</div>"
      ],
      "text/plain": [
       "   instant      dteday  season  yr  mnth  holiday  weekday  workingday  \\\n",
       "0        1  2011-01-01       1   0     1        0        6           0   \n",
       "1        2  2011-01-02       1   0     1        0        0           0   \n",
       "2        3  2011-01-03       1   0     1        0        1           1   \n",
       "3        4  2011-01-04       1   0     1        0        2           1   \n",
       "4        5  2011-01-05       1   0     1        0        3           1   \n",
       "\n",
       "   weathersit      temp     atemp       hum  windspeed  casual  registered  \\\n",
       "0           2  0.344167  0.363625  0.805833   0.160446     331         654   \n",
       "1           2  0.363478  0.353739  0.696087   0.248539     131         670   \n",
       "2           1  0.196364  0.189405  0.437273   0.248309     120        1229   \n",
       "3           1  0.200000  0.212122  0.590435   0.160296     108        1454   \n",
       "4           1  0.226957  0.229270  0.436957   0.186900      82        1518   \n",
       "\n",
       "    cnt  \n",
       "0   985  \n",
       "1   801  \n",
       "2  1349  \n",
       "3  1562  \n",
       "4  1600  "
      ]
     },
     "execution_count": 2,
     "metadata": {},
     "output_type": "execute_result"
    }
   ],
   "source": [
    "day_df = pd.read_csv(\"data/day.csv\")\n",
    "\n",
    "day_df.head()"
   ]
  },
  {
   "cell_type": "markdown",
   "metadata": {},
   "source": [
    "Kode di atas akan menampilkan 5 baris pertama dari DataFrame day_df seperti pada gambar di bawah ini.\n",
    "\n",
    "- **Memuat Tabel Hour (Data Per Jam)**"
   ]
  },
  {
   "cell_type": "code",
   "execution_count": 3,
   "metadata": {},
   "outputs": [
    {
     "data": {
      "text/html": [
       "<div>\n",
       "<style scoped>\n",
       "    .dataframe tbody tr th:only-of-type {\n",
       "        vertical-align: middle;\n",
       "    }\n",
       "\n",
       "    .dataframe tbody tr th {\n",
       "        vertical-align: top;\n",
       "    }\n",
       "\n",
       "    .dataframe thead th {\n",
       "        text-align: right;\n",
       "    }\n",
       "</style>\n",
       "<table border=\"1\" class=\"dataframe\">\n",
       "  <thead>\n",
       "    <tr style=\"text-align: right;\">\n",
       "      <th></th>\n",
       "      <th>instant</th>\n",
       "      <th>dteday</th>\n",
       "      <th>season</th>\n",
       "      <th>yr</th>\n",
       "      <th>mnth</th>\n",
       "      <th>hr</th>\n",
       "      <th>holiday</th>\n",
       "      <th>weekday</th>\n",
       "      <th>workingday</th>\n",
       "      <th>weathersit</th>\n",
       "      <th>temp</th>\n",
       "      <th>atemp</th>\n",
       "      <th>hum</th>\n",
       "      <th>windspeed</th>\n",
       "      <th>casual</th>\n",
       "      <th>registered</th>\n",
       "      <th>cnt</th>\n",
       "    </tr>\n",
       "  </thead>\n",
       "  <tbody>\n",
       "    <tr>\n",
       "      <th>0</th>\n",
       "      <td>1</td>\n",
       "      <td>2011-01-01</td>\n",
       "      <td>1</td>\n",
       "      <td>0</td>\n",
       "      <td>1</td>\n",
       "      <td>0</td>\n",
       "      <td>0</td>\n",
       "      <td>6</td>\n",
       "      <td>0</td>\n",
       "      <td>1</td>\n",
       "      <td>0.24</td>\n",
       "      <td>0.2879</td>\n",
       "      <td>0.81</td>\n",
       "      <td>0.0</td>\n",
       "      <td>3</td>\n",
       "      <td>13</td>\n",
       "      <td>16</td>\n",
       "    </tr>\n",
       "    <tr>\n",
       "      <th>1</th>\n",
       "      <td>2</td>\n",
       "      <td>2011-01-01</td>\n",
       "      <td>1</td>\n",
       "      <td>0</td>\n",
       "      <td>1</td>\n",
       "      <td>1</td>\n",
       "      <td>0</td>\n",
       "      <td>6</td>\n",
       "      <td>0</td>\n",
       "      <td>1</td>\n",
       "      <td>0.22</td>\n",
       "      <td>0.2727</td>\n",
       "      <td>0.80</td>\n",
       "      <td>0.0</td>\n",
       "      <td>8</td>\n",
       "      <td>32</td>\n",
       "      <td>40</td>\n",
       "    </tr>\n",
       "    <tr>\n",
       "      <th>2</th>\n",
       "      <td>3</td>\n",
       "      <td>2011-01-01</td>\n",
       "      <td>1</td>\n",
       "      <td>0</td>\n",
       "      <td>1</td>\n",
       "      <td>2</td>\n",
       "      <td>0</td>\n",
       "      <td>6</td>\n",
       "      <td>0</td>\n",
       "      <td>1</td>\n",
       "      <td>0.22</td>\n",
       "      <td>0.2727</td>\n",
       "      <td>0.80</td>\n",
       "      <td>0.0</td>\n",
       "      <td>5</td>\n",
       "      <td>27</td>\n",
       "      <td>32</td>\n",
       "    </tr>\n",
       "    <tr>\n",
       "      <th>3</th>\n",
       "      <td>4</td>\n",
       "      <td>2011-01-01</td>\n",
       "      <td>1</td>\n",
       "      <td>0</td>\n",
       "      <td>1</td>\n",
       "      <td>3</td>\n",
       "      <td>0</td>\n",
       "      <td>6</td>\n",
       "      <td>0</td>\n",
       "      <td>1</td>\n",
       "      <td>0.24</td>\n",
       "      <td>0.2879</td>\n",
       "      <td>0.75</td>\n",
       "      <td>0.0</td>\n",
       "      <td>3</td>\n",
       "      <td>10</td>\n",
       "      <td>13</td>\n",
       "    </tr>\n",
       "    <tr>\n",
       "      <th>4</th>\n",
       "      <td>5</td>\n",
       "      <td>2011-01-01</td>\n",
       "      <td>1</td>\n",
       "      <td>0</td>\n",
       "      <td>1</td>\n",
       "      <td>4</td>\n",
       "      <td>0</td>\n",
       "      <td>6</td>\n",
       "      <td>0</td>\n",
       "      <td>1</td>\n",
       "      <td>0.24</td>\n",
       "      <td>0.2879</td>\n",
       "      <td>0.75</td>\n",
       "      <td>0.0</td>\n",
       "      <td>0</td>\n",
       "      <td>1</td>\n",
       "      <td>1</td>\n",
       "    </tr>\n",
       "  </tbody>\n",
       "</table>\n",
       "</div>"
      ],
      "text/plain": [
       "   instant      dteday  season  yr  mnth  hr  holiday  weekday  workingday  \\\n",
       "0        1  2011-01-01       1   0     1   0        0        6           0   \n",
       "1        2  2011-01-01       1   0     1   1        0        6           0   \n",
       "2        3  2011-01-01       1   0     1   2        0        6           0   \n",
       "3        4  2011-01-01       1   0     1   3        0        6           0   \n",
       "4        5  2011-01-01       1   0     1   4        0        6           0   \n",
       "\n",
       "   weathersit  temp   atemp   hum  windspeed  casual  registered  cnt  \n",
       "0           1  0.24  0.2879  0.81        0.0       3          13   16  \n",
       "1           1  0.22  0.2727  0.80        0.0       8          32   40  \n",
       "2           1  0.22  0.2727  0.80        0.0       5          27   32  \n",
       "3           1  0.24  0.2879  0.75        0.0       3          10   13  \n",
       "4           1  0.24  0.2879  0.75        0.0       0           1    1  "
      ]
     },
     "execution_count": 3,
     "metadata": {},
     "output_type": "execute_result"
    }
   ],
   "source": [
    "hour_df = pd.read_csv(\"data/hour.csv\")\n",
    "\n",
    "hour_df.head()"
   ]
  },
  {
   "cell_type": "markdown",
   "metadata": {},
   "source": [
    "Kode di atas akan menampilkan 5 baris pertama dari DataFrame hour_df."
   ]
  },
  {
   "cell_type": "markdown",
   "metadata": {
    "id": "MMi6xGaDkbCi"
   },
   "source": [
    "**Insight:**\n",
    "- Data day_df berisi data penggunaan sistem berbagi sepeda setiap harinya selama periode waktu tertentu, dengan berbagai variabel yang merekam faktor cuaca, hari, dan jumlah pengguna sepeda.\n",
    "- Data hour_df berisi data penggunaan sistem berbagi sepeda setiap jam selama periode waktu tertentu, dengan berbagai variabel yang merekam faktor cuaca, hari, dan jumlah pengguna sepeda.\n",
    "- Jika mengacu dari sumber data, periode waktu yang diambil dimulai dari tahun 2010 sampai 2011 (yr = 0 berarti 2010 dan yr = 1 berarti 2011).\n",
    "- Pengguna sepeda dibagi menjadi dua yaitu pengguna kasual (tidak berlangganan) dan pengguna yang terdaftar (berlangganan).\n",
    "- Variabel musim di sini direpresentasikan oleh angka. Mengacu dari sumber data penjelasan untuk tiap angka adalah sebagai berikut:\n",
    "  1. Musim semi\n",
    "  2. Musim panas\n",
    "  3. Musim gugur\n",
    "  4. Musim dingin\n",
    "- Variabel situasi cuaca di sini direpresentasikan oleh angka. Mengacu dari sumber data penjelasan untuk tiap angka adalah sebagai berikut:\n",
    "  1. Cerah, Sedikit awan, Berawan sebagian\n",
    "  2. Kabut + Berawan, Kabut + Awan pecah, Kabut + Sedikit awan, Kabut\n",
    "  3. Salju Ringan, Hujan Ringan + Badai Petir + Awan tersebar, Hujan Ringan + Awan tersebar\n",
    "  4. Hujan Lebat + Es + Badai Petir + Kabut, Salju + Kabut\n",
    "- Terdapat dua jenis variabel suhu yang ditampilkan, yaitu suhu yang dinormalisasi dan suhu yang dirasakan. Variabel tersebut direpresentasikan dalam bilangan desimal yang merupakan hasil pembagian suhu sebenarnya (dalam celcius) dengan nilai maksimal 41 untuk suhu yang dinormalisasi dan dengan nilai maksimal 50 untuk suhu yang dirasakan.\n",
    "- Selain itu, variabel kelembaban dan kecepatan angin juga direpresentasikan dalam bilangan desimal. Variabel kelembaban diambil dari nilai asli kelembaban dalam persentase kemudian dikonversi ke skala antara 0 dan 1. Sedangkan variabel kecepatan angin merupakan hasil pembagian dari kecepatan angin sebenarnya (mungkin meter per detik) dibagi dengan nilai maksimal 67.\n"
   ]
  },
  {
   "cell_type": "markdown",
   "metadata": {
    "id": "FHSiqaZp8DC1"
   },
   "source": [
    "### Assessing Data"
   ]
  },
  {
   "cell_type": "markdown",
   "metadata": {},
   "source": [
    "- **Menilai data day_df**"
   ]
  },
  {
   "cell_type": "code",
   "execution_count": 4,
   "metadata": {
    "id": "ax-3tEjc9Cj1"
   },
   "outputs": [
    {
     "name": "stdout",
     "output_type": "stream",
     "text": [
      "<class 'pandas.core.frame.DataFrame'>\n",
      "RangeIndex: 731 entries, 0 to 730\n",
      "Data columns (total 16 columns):\n",
      " #   Column      Non-Null Count  Dtype  \n",
      "---  ------      --------------  -----  \n",
      " 0   instant     731 non-null    int64  \n",
      " 1   dteday      731 non-null    object \n",
      " 2   season      731 non-null    int64  \n",
      " 3   yr          731 non-null    int64  \n",
      " 4   mnth        731 non-null    int64  \n",
      " 5   holiday     731 non-null    int64  \n",
      " 6   weekday     731 non-null    int64  \n",
      " 7   workingday  731 non-null    int64  \n",
      " 8   weathersit  731 non-null    int64  \n",
      " 9   temp        731 non-null    float64\n",
      " 10  atemp       731 non-null    float64\n",
      " 11  hum         731 non-null    float64\n",
      " 12  windspeed   731 non-null    float64\n",
      " 13  casual      731 non-null    int64  \n",
      " 14  registered  731 non-null    int64  \n",
      " 15  cnt         731 non-null    int64  \n",
      "dtypes: float64(4), int64(11), object(1)\n",
      "memory usage: 91.5+ KB\n"
     ]
    }
   ],
   "source": [
    "day_df.info()"
   ]
  },
  {
   "cell_type": "markdown",
   "metadata": {},
   "source": [
    "Jika diperhatikan, jumlah data pada day_df telah lengkap dan tidak ada missing value di dalamnya. Akan tetapi, terdapat kesalahan pada kolom dteday yang seharusnya direpresentasikan sebagai tipe data datetime, bukan object.\n",
    "\n",
    "Selanjutnya, dicek apakah terdapat duplikasi data dalam day_df. Untuk memeriksa hal ini, jalankan source code berikut."
   ]
  },
  {
   "cell_type": "code",
   "execution_count": 5,
   "metadata": {},
   "outputs": [
    {
     "name": "stdout",
     "output_type": "stream",
     "text": [
      "Jumlah duplikasi:  0\n"
     ]
    }
   ],
   "source": [
    "print(\"Jumlah duplikasi: \", day_df.duplicated().sum())"
   ]
  },
  {
   "cell_type": "markdown",
   "metadata": {},
   "source": [
    "Dapat dilihat bahwa data day_df tidak memiliki data duplikasi sehingga kita bisa lanjut ke langkah berikutnya.\n",
    "\n",
    "Sekarang kita memeriksa parameter statistik dari kolom numerik yang terdapat dalam day_df. Untuk mempermudah pemeriksaan, kita akan menggunakan method describe(). Method tersebut akan menampilkan ringkasan parameter statistik (mean, median, dll.) dari kolom numerik pada sebuah DataFrame. Untuk memeriksa hal ini, jalankan source code berikut."
   ]
  },
  {
   "cell_type": "code",
   "execution_count": 6,
   "metadata": {},
   "outputs": [
    {
     "data": {
      "text/html": [
       "<div>\n",
       "<style scoped>\n",
       "    .dataframe tbody tr th:only-of-type {\n",
       "        vertical-align: middle;\n",
       "    }\n",
       "\n",
       "    .dataframe tbody tr th {\n",
       "        vertical-align: top;\n",
       "    }\n",
       "\n",
       "    .dataframe thead th {\n",
       "        text-align: right;\n",
       "    }\n",
       "</style>\n",
       "<table border=\"1\" class=\"dataframe\">\n",
       "  <thead>\n",
       "    <tr style=\"text-align: right;\">\n",
       "      <th></th>\n",
       "      <th>instant</th>\n",
       "      <th>season</th>\n",
       "      <th>yr</th>\n",
       "      <th>mnth</th>\n",
       "      <th>holiday</th>\n",
       "      <th>weekday</th>\n",
       "      <th>workingday</th>\n",
       "      <th>weathersit</th>\n",
       "      <th>temp</th>\n",
       "      <th>atemp</th>\n",
       "      <th>hum</th>\n",
       "      <th>windspeed</th>\n",
       "      <th>casual</th>\n",
       "      <th>registered</th>\n",
       "      <th>cnt</th>\n",
       "    </tr>\n",
       "  </thead>\n",
       "  <tbody>\n",
       "    <tr>\n",
       "      <th>count</th>\n",
       "      <td>731.000000</td>\n",
       "      <td>731.000000</td>\n",
       "      <td>731.000000</td>\n",
       "      <td>731.000000</td>\n",
       "      <td>731.000000</td>\n",
       "      <td>731.000000</td>\n",
       "      <td>731.000000</td>\n",
       "      <td>731.000000</td>\n",
       "      <td>731.000000</td>\n",
       "      <td>731.000000</td>\n",
       "      <td>731.000000</td>\n",
       "      <td>731.000000</td>\n",
       "      <td>731.000000</td>\n",
       "      <td>731.000000</td>\n",
       "      <td>731.000000</td>\n",
       "    </tr>\n",
       "    <tr>\n",
       "      <th>mean</th>\n",
       "      <td>366.000000</td>\n",
       "      <td>2.496580</td>\n",
       "      <td>0.500684</td>\n",
       "      <td>6.519836</td>\n",
       "      <td>0.028728</td>\n",
       "      <td>2.997264</td>\n",
       "      <td>0.683995</td>\n",
       "      <td>1.395349</td>\n",
       "      <td>0.495385</td>\n",
       "      <td>0.474354</td>\n",
       "      <td>0.627894</td>\n",
       "      <td>0.190486</td>\n",
       "      <td>848.176471</td>\n",
       "      <td>3656.172367</td>\n",
       "      <td>4504.348837</td>\n",
       "    </tr>\n",
       "    <tr>\n",
       "      <th>std</th>\n",
       "      <td>211.165812</td>\n",
       "      <td>1.110807</td>\n",
       "      <td>0.500342</td>\n",
       "      <td>3.451913</td>\n",
       "      <td>0.167155</td>\n",
       "      <td>2.004787</td>\n",
       "      <td>0.465233</td>\n",
       "      <td>0.544894</td>\n",
       "      <td>0.183051</td>\n",
       "      <td>0.162961</td>\n",
       "      <td>0.142429</td>\n",
       "      <td>0.077498</td>\n",
       "      <td>686.622488</td>\n",
       "      <td>1560.256377</td>\n",
       "      <td>1937.211452</td>\n",
       "    </tr>\n",
       "    <tr>\n",
       "      <th>min</th>\n",
       "      <td>1.000000</td>\n",
       "      <td>1.000000</td>\n",
       "      <td>0.000000</td>\n",
       "      <td>1.000000</td>\n",
       "      <td>0.000000</td>\n",
       "      <td>0.000000</td>\n",
       "      <td>0.000000</td>\n",
       "      <td>1.000000</td>\n",
       "      <td>0.059130</td>\n",
       "      <td>0.079070</td>\n",
       "      <td>0.000000</td>\n",
       "      <td>0.022392</td>\n",
       "      <td>2.000000</td>\n",
       "      <td>20.000000</td>\n",
       "      <td>22.000000</td>\n",
       "    </tr>\n",
       "    <tr>\n",
       "      <th>25%</th>\n",
       "      <td>183.500000</td>\n",
       "      <td>2.000000</td>\n",
       "      <td>0.000000</td>\n",
       "      <td>4.000000</td>\n",
       "      <td>0.000000</td>\n",
       "      <td>1.000000</td>\n",
       "      <td>0.000000</td>\n",
       "      <td>1.000000</td>\n",
       "      <td>0.337083</td>\n",
       "      <td>0.337842</td>\n",
       "      <td>0.520000</td>\n",
       "      <td>0.134950</td>\n",
       "      <td>315.500000</td>\n",
       "      <td>2497.000000</td>\n",
       "      <td>3152.000000</td>\n",
       "    </tr>\n",
       "    <tr>\n",
       "      <th>50%</th>\n",
       "      <td>366.000000</td>\n",
       "      <td>3.000000</td>\n",
       "      <td>1.000000</td>\n",
       "      <td>7.000000</td>\n",
       "      <td>0.000000</td>\n",
       "      <td>3.000000</td>\n",
       "      <td>1.000000</td>\n",
       "      <td>1.000000</td>\n",
       "      <td>0.498333</td>\n",
       "      <td>0.486733</td>\n",
       "      <td>0.626667</td>\n",
       "      <td>0.180975</td>\n",
       "      <td>713.000000</td>\n",
       "      <td>3662.000000</td>\n",
       "      <td>4548.000000</td>\n",
       "    </tr>\n",
       "    <tr>\n",
       "      <th>75%</th>\n",
       "      <td>548.500000</td>\n",
       "      <td>3.000000</td>\n",
       "      <td>1.000000</td>\n",
       "      <td>10.000000</td>\n",
       "      <td>0.000000</td>\n",
       "      <td>5.000000</td>\n",
       "      <td>1.000000</td>\n",
       "      <td>2.000000</td>\n",
       "      <td>0.655417</td>\n",
       "      <td>0.608602</td>\n",
       "      <td>0.730209</td>\n",
       "      <td>0.233214</td>\n",
       "      <td>1096.000000</td>\n",
       "      <td>4776.500000</td>\n",
       "      <td>5956.000000</td>\n",
       "    </tr>\n",
       "    <tr>\n",
       "      <th>max</th>\n",
       "      <td>731.000000</td>\n",
       "      <td>4.000000</td>\n",
       "      <td>1.000000</td>\n",
       "      <td>12.000000</td>\n",
       "      <td>1.000000</td>\n",
       "      <td>6.000000</td>\n",
       "      <td>1.000000</td>\n",
       "      <td>3.000000</td>\n",
       "      <td>0.861667</td>\n",
       "      <td>0.840896</td>\n",
       "      <td>0.972500</td>\n",
       "      <td>0.507463</td>\n",
       "      <td>3410.000000</td>\n",
       "      <td>6946.000000</td>\n",
       "      <td>8714.000000</td>\n",
       "    </tr>\n",
       "  </tbody>\n",
       "</table>\n",
       "</div>"
      ],
      "text/plain": [
       "          instant      season          yr        mnth     holiday     weekday  \\\n",
       "count  731.000000  731.000000  731.000000  731.000000  731.000000  731.000000   \n",
       "mean   366.000000    2.496580    0.500684    6.519836    0.028728    2.997264   \n",
       "std    211.165812    1.110807    0.500342    3.451913    0.167155    2.004787   \n",
       "min      1.000000    1.000000    0.000000    1.000000    0.000000    0.000000   \n",
       "25%    183.500000    2.000000    0.000000    4.000000    0.000000    1.000000   \n",
       "50%    366.000000    3.000000    1.000000    7.000000    0.000000    3.000000   \n",
       "75%    548.500000    3.000000    1.000000   10.000000    0.000000    5.000000   \n",
       "max    731.000000    4.000000    1.000000   12.000000    1.000000    6.000000   \n",
       "\n",
       "       workingday  weathersit        temp       atemp         hum   windspeed  \\\n",
       "count  731.000000  731.000000  731.000000  731.000000  731.000000  731.000000   \n",
       "mean     0.683995    1.395349    0.495385    0.474354    0.627894    0.190486   \n",
       "std      0.465233    0.544894    0.183051    0.162961    0.142429    0.077498   \n",
       "min      0.000000    1.000000    0.059130    0.079070    0.000000    0.022392   \n",
       "25%      0.000000    1.000000    0.337083    0.337842    0.520000    0.134950   \n",
       "50%      1.000000    1.000000    0.498333    0.486733    0.626667    0.180975   \n",
       "75%      1.000000    2.000000    0.655417    0.608602    0.730209    0.233214   \n",
       "max      1.000000    3.000000    0.861667    0.840896    0.972500    0.507463   \n",
       "\n",
       "            casual   registered          cnt  \n",
       "count   731.000000   731.000000   731.000000  \n",
       "mean    848.176471  3656.172367  4504.348837  \n",
       "std     686.622488  1560.256377  1937.211452  \n",
       "min       2.000000    20.000000    22.000000  \n",
       "25%     315.500000  2497.000000  3152.000000  \n",
       "50%     713.000000  3662.000000  4548.000000  \n",
       "75%    1096.000000  4776.500000  5956.000000  \n",
       "max    3410.000000  6946.000000  8714.000000  "
      ]
     },
     "execution_count": 6,
     "metadata": {},
     "output_type": "execute_result"
    }
   ],
   "source": [
    "day_df.describe()"
   ]
  },
  {
   "cell_type": "markdown",
   "metadata": {},
   "source": [
    "Dapat diperhatikan bahwa tidak terdapat keanehan nilai pada day_df.\n",
    "\n",
    "- **Menilai data hour_df**"
   ]
  },
  {
   "cell_type": "code",
   "execution_count": 7,
   "metadata": {},
   "outputs": [
    {
     "name": "stdout",
     "output_type": "stream",
     "text": [
      "<class 'pandas.core.frame.DataFrame'>\n",
      "RangeIndex: 17379 entries, 0 to 17378\n",
      "Data columns (total 17 columns):\n",
      " #   Column      Non-Null Count  Dtype  \n",
      "---  ------      --------------  -----  \n",
      " 0   instant     17379 non-null  int64  \n",
      " 1   dteday      17379 non-null  object \n",
      " 2   season      17379 non-null  int64  \n",
      " 3   yr          17379 non-null  int64  \n",
      " 4   mnth        17379 non-null  int64  \n",
      " 5   hr          17379 non-null  int64  \n",
      " 6   holiday     17379 non-null  int64  \n",
      " 7   weekday     17379 non-null  int64  \n",
      " 8   workingday  17379 non-null  int64  \n",
      " 9   weathersit  17379 non-null  int64  \n",
      " 10  temp        17379 non-null  float64\n",
      " 11  atemp       17379 non-null  float64\n",
      " 12  hum         17379 non-null  float64\n",
      " 13  windspeed   17379 non-null  float64\n",
      " 14  casual      17379 non-null  int64  \n",
      " 15  registered  17379 non-null  int64  \n",
      " 16  cnt         17379 non-null  int64  \n",
      "dtypes: float64(4), int64(12), object(1)\n",
      "memory usage: 2.3+ MB\n"
     ]
    }
   ],
   "source": [
    "hour_df.info()"
   ]
  },
  {
   "cell_type": "markdown",
   "metadata": {},
   "source": [
    "Jika diperhatikan, jumlah data pada hour_df telah lengkap dan tidak ada missing value di dalamnya. Akan tetapi, terdapat kesalahan pada kolom dteday yang seharusnya direpresentasikan sebagai tipe data datetime, bukan object.\n",
    "\n",
    "Berikutnya, kita perlu memeriksa duplikasi dan ringkasan parameter statistik dari kolom numerik pada hour_df. Proses ini dilakukan dengan menjalankan kode berikut."
   ]
  },
  {
   "cell_type": "code",
   "execution_count": 8,
   "metadata": {
    "scrolled": true
   },
   "outputs": [
    {
     "name": "stdout",
     "output_type": "stream",
     "text": [
      "Jumlah duplikasi:  0\n"
     ]
    },
    {
     "data": {
      "text/html": [
       "<div>\n",
       "<style scoped>\n",
       "    .dataframe tbody tr th:only-of-type {\n",
       "        vertical-align: middle;\n",
       "    }\n",
       "\n",
       "    .dataframe tbody tr th {\n",
       "        vertical-align: top;\n",
       "    }\n",
       "\n",
       "    .dataframe thead th {\n",
       "        text-align: right;\n",
       "    }\n",
       "</style>\n",
       "<table border=\"1\" class=\"dataframe\">\n",
       "  <thead>\n",
       "    <tr style=\"text-align: right;\">\n",
       "      <th></th>\n",
       "      <th>instant</th>\n",
       "      <th>season</th>\n",
       "      <th>yr</th>\n",
       "      <th>mnth</th>\n",
       "      <th>hr</th>\n",
       "      <th>holiday</th>\n",
       "      <th>weekday</th>\n",
       "      <th>workingday</th>\n",
       "      <th>weathersit</th>\n",
       "      <th>temp</th>\n",
       "      <th>atemp</th>\n",
       "      <th>hum</th>\n",
       "      <th>windspeed</th>\n",
       "      <th>casual</th>\n",
       "      <th>registered</th>\n",
       "      <th>cnt</th>\n",
       "    </tr>\n",
       "  </thead>\n",
       "  <tbody>\n",
       "    <tr>\n",
       "      <th>count</th>\n",
       "      <td>17379.0000</td>\n",
       "      <td>17379.000000</td>\n",
       "      <td>17379.000000</td>\n",
       "      <td>17379.000000</td>\n",
       "      <td>17379.000000</td>\n",
       "      <td>17379.000000</td>\n",
       "      <td>17379.000000</td>\n",
       "      <td>17379.000000</td>\n",
       "      <td>17379.000000</td>\n",
       "      <td>17379.000000</td>\n",
       "      <td>17379.000000</td>\n",
       "      <td>17379.000000</td>\n",
       "      <td>17379.000000</td>\n",
       "      <td>17379.000000</td>\n",
       "      <td>17379.000000</td>\n",
       "      <td>17379.000000</td>\n",
       "    </tr>\n",
       "    <tr>\n",
       "      <th>mean</th>\n",
       "      <td>8690.0000</td>\n",
       "      <td>2.501640</td>\n",
       "      <td>0.502561</td>\n",
       "      <td>6.537775</td>\n",
       "      <td>11.546752</td>\n",
       "      <td>0.028770</td>\n",
       "      <td>3.003683</td>\n",
       "      <td>0.682721</td>\n",
       "      <td>1.425283</td>\n",
       "      <td>0.496987</td>\n",
       "      <td>0.475775</td>\n",
       "      <td>0.627229</td>\n",
       "      <td>0.190098</td>\n",
       "      <td>35.676218</td>\n",
       "      <td>153.786869</td>\n",
       "      <td>189.463088</td>\n",
       "    </tr>\n",
       "    <tr>\n",
       "      <th>std</th>\n",
       "      <td>5017.0295</td>\n",
       "      <td>1.106918</td>\n",
       "      <td>0.500008</td>\n",
       "      <td>3.438776</td>\n",
       "      <td>6.914405</td>\n",
       "      <td>0.167165</td>\n",
       "      <td>2.005771</td>\n",
       "      <td>0.465431</td>\n",
       "      <td>0.639357</td>\n",
       "      <td>0.192556</td>\n",
       "      <td>0.171850</td>\n",
       "      <td>0.192930</td>\n",
       "      <td>0.122340</td>\n",
       "      <td>49.305030</td>\n",
       "      <td>151.357286</td>\n",
       "      <td>181.387599</td>\n",
       "    </tr>\n",
       "    <tr>\n",
       "      <th>min</th>\n",
       "      <td>1.0000</td>\n",
       "      <td>1.000000</td>\n",
       "      <td>0.000000</td>\n",
       "      <td>1.000000</td>\n",
       "      <td>0.000000</td>\n",
       "      <td>0.000000</td>\n",
       "      <td>0.000000</td>\n",
       "      <td>0.000000</td>\n",
       "      <td>1.000000</td>\n",
       "      <td>0.020000</td>\n",
       "      <td>0.000000</td>\n",
       "      <td>0.000000</td>\n",
       "      <td>0.000000</td>\n",
       "      <td>0.000000</td>\n",
       "      <td>0.000000</td>\n",
       "      <td>1.000000</td>\n",
       "    </tr>\n",
       "    <tr>\n",
       "      <th>25%</th>\n",
       "      <td>4345.5000</td>\n",
       "      <td>2.000000</td>\n",
       "      <td>0.000000</td>\n",
       "      <td>4.000000</td>\n",
       "      <td>6.000000</td>\n",
       "      <td>0.000000</td>\n",
       "      <td>1.000000</td>\n",
       "      <td>0.000000</td>\n",
       "      <td>1.000000</td>\n",
       "      <td>0.340000</td>\n",
       "      <td>0.333300</td>\n",
       "      <td>0.480000</td>\n",
       "      <td>0.104500</td>\n",
       "      <td>4.000000</td>\n",
       "      <td>34.000000</td>\n",
       "      <td>40.000000</td>\n",
       "    </tr>\n",
       "    <tr>\n",
       "      <th>50%</th>\n",
       "      <td>8690.0000</td>\n",
       "      <td>3.000000</td>\n",
       "      <td>1.000000</td>\n",
       "      <td>7.000000</td>\n",
       "      <td>12.000000</td>\n",
       "      <td>0.000000</td>\n",
       "      <td>3.000000</td>\n",
       "      <td>1.000000</td>\n",
       "      <td>1.000000</td>\n",
       "      <td>0.500000</td>\n",
       "      <td>0.484800</td>\n",
       "      <td>0.630000</td>\n",
       "      <td>0.194000</td>\n",
       "      <td>17.000000</td>\n",
       "      <td>115.000000</td>\n",
       "      <td>142.000000</td>\n",
       "    </tr>\n",
       "    <tr>\n",
       "      <th>75%</th>\n",
       "      <td>13034.5000</td>\n",
       "      <td>3.000000</td>\n",
       "      <td>1.000000</td>\n",
       "      <td>10.000000</td>\n",
       "      <td>18.000000</td>\n",
       "      <td>0.000000</td>\n",
       "      <td>5.000000</td>\n",
       "      <td>1.000000</td>\n",
       "      <td>2.000000</td>\n",
       "      <td>0.660000</td>\n",
       "      <td>0.621200</td>\n",
       "      <td>0.780000</td>\n",
       "      <td>0.253700</td>\n",
       "      <td>48.000000</td>\n",
       "      <td>220.000000</td>\n",
       "      <td>281.000000</td>\n",
       "    </tr>\n",
       "    <tr>\n",
       "      <th>max</th>\n",
       "      <td>17379.0000</td>\n",
       "      <td>4.000000</td>\n",
       "      <td>1.000000</td>\n",
       "      <td>12.000000</td>\n",
       "      <td>23.000000</td>\n",
       "      <td>1.000000</td>\n",
       "      <td>6.000000</td>\n",
       "      <td>1.000000</td>\n",
       "      <td>4.000000</td>\n",
       "      <td>1.000000</td>\n",
       "      <td>1.000000</td>\n",
       "      <td>1.000000</td>\n",
       "      <td>0.850700</td>\n",
       "      <td>367.000000</td>\n",
       "      <td>886.000000</td>\n",
       "      <td>977.000000</td>\n",
       "    </tr>\n",
       "  </tbody>\n",
       "</table>\n",
       "</div>"
      ],
      "text/plain": [
       "          instant        season            yr          mnth            hr  \\\n",
       "count  17379.0000  17379.000000  17379.000000  17379.000000  17379.000000   \n",
       "mean    8690.0000      2.501640      0.502561      6.537775     11.546752   \n",
       "std     5017.0295      1.106918      0.500008      3.438776      6.914405   \n",
       "min        1.0000      1.000000      0.000000      1.000000      0.000000   \n",
       "25%     4345.5000      2.000000      0.000000      4.000000      6.000000   \n",
       "50%     8690.0000      3.000000      1.000000      7.000000     12.000000   \n",
       "75%    13034.5000      3.000000      1.000000     10.000000     18.000000   \n",
       "max    17379.0000      4.000000      1.000000     12.000000     23.000000   \n",
       "\n",
       "            holiday       weekday    workingday    weathersit          temp  \\\n",
       "count  17379.000000  17379.000000  17379.000000  17379.000000  17379.000000   \n",
       "mean       0.028770      3.003683      0.682721      1.425283      0.496987   \n",
       "std        0.167165      2.005771      0.465431      0.639357      0.192556   \n",
       "min        0.000000      0.000000      0.000000      1.000000      0.020000   \n",
       "25%        0.000000      1.000000      0.000000      1.000000      0.340000   \n",
       "50%        0.000000      3.000000      1.000000      1.000000      0.500000   \n",
       "75%        0.000000      5.000000      1.000000      2.000000      0.660000   \n",
       "max        1.000000      6.000000      1.000000      4.000000      1.000000   \n",
       "\n",
       "              atemp           hum     windspeed        casual    registered  \\\n",
       "count  17379.000000  17379.000000  17379.000000  17379.000000  17379.000000   \n",
       "mean       0.475775      0.627229      0.190098     35.676218    153.786869   \n",
       "std        0.171850      0.192930      0.122340     49.305030    151.357286   \n",
       "min        0.000000      0.000000      0.000000      0.000000      0.000000   \n",
       "25%        0.333300      0.480000      0.104500      4.000000     34.000000   \n",
       "50%        0.484800      0.630000      0.194000     17.000000    115.000000   \n",
       "75%        0.621200      0.780000      0.253700     48.000000    220.000000   \n",
       "max        1.000000      1.000000      0.850700    367.000000    886.000000   \n",
       "\n",
       "                cnt  \n",
       "count  17379.000000  \n",
       "mean     189.463088  \n",
       "std      181.387599  \n",
       "min        1.000000  \n",
       "25%       40.000000  \n",
       "50%      142.000000  \n",
       "75%      281.000000  \n",
       "max      977.000000  "
      ]
     },
     "execution_count": 8,
     "metadata": {},
     "output_type": "execute_result"
    }
   ],
   "source": [
    "print(\"Jumlah duplikasi: \",hour_df.duplicated().sum())\n",
    "hour_df.describe()"
   ]
  },
  {
   "cell_type": "markdown",
   "metadata": {},
   "source": [
    "Dapat diperhatikan bahwa tidak terdapat duplikasi dan keanehan nilai pada hour_df"
   ]
  },
  {
   "cell_type": "markdown",
   "metadata": {
    "id": "7dtxhAPrkhPL"
   },
   "source": [
    "**Insight:**\n",
    "- Data day_df memiliki kesalahan tipe data pada kolom dteday yang seharusnya bertipe data datetime, bukan object.\n",
    "- Data hour_df memiliki kesalahan tipe data pada kolom dteday yang seharusnya bertipe data datetime, bukan object."
   ]
  },
  {
   "cell_type": "markdown",
   "metadata": {
    "id": "EhN5R4hr8DC1"
   },
   "source": [
    "### Cleaning Data"
   ]
  },
  {
   "cell_type": "markdown",
   "metadata": {},
   "source": [
    "- **Membersihkan data day_df**\n",
    "\n",
    "Masalah yang dimiliki data day_df hanyalah tipe data pada kolom dteday yang tidak sesuai. Untuk mengatasi masalah ini, kita akan mengganti tipe data pada kolom dteday menjadi datetime. Proses ini dapat dilakukan menggunakan function to_datetime() yang disediakan oleh library pandas. Untuk melakukan hal tersebut, jalankan source code berikut."
   ]
  },
  {
   "cell_type": "code",
   "execution_count": 9,
   "metadata": {
    "id": "jVnYpprE9Evz"
   },
   "outputs": [],
   "source": [
    "day_df['dteday'] = pd.to_datetime(day_df['dteday'])"
   ]
  },
  {
   "cell_type": "markdown",
   "metadata": {},
   "source": [
    "Source code di atas akan mengubah tipe data pada kolom dteday menjadi datetime. Untuk memastikan hal ini berjalan sesuai harapan, periksa kembali tipe data tersebut menggunakan method info()."
   ]
  },
  {
   "cell_type": "code",
   "execution_count": 10,
   "metadata": {
    "scrolled": true
   },
   "outputs": [
    {
     "name": "stdout",
     "output_type": "stream",
     "text": [
      "<class 'pandas.core.frame.DataFrame'>\n",
      "RangeIndex: 731 entries, 0 to 730\n",
      "Data columns (total 16 columns):\n",
      " #   Column      Non-Null Count  Dtype         \n",
      "---  ------      --------------  -----         \n",
      " 0   instant     731 non-null    int64         \n",
      " 1   dteday      731 non-null    datetime64[ns]\n",
      " 2   season      731 non-null    int64         \n",
      " 3   yr          731 non-null    int64         \n",
      " 4   mnth        731 non-null    int64         \n",
      " 5   holiday     731 non-null    int64         \n",
      " 6   weekday     731 non-null    int64         \n",
      " 7   workingday  731 non-null    int64         \n",
      " 8   weathersit  731 non-null    int64         \n",
      " 9   temp        731 non-null    float64       \n",
      " 10  atemp       731 non-null    float64       \n",
      " 11  hum         731 non-null    float64       \n",
      " 12  windspeed   731 non-null    float64       \n",
      " 13  casual      731 non-null    int64         \n",
      " 14  registered  731 non-null    int64         \n",
      " 15  cnt         731 non-null    int64         \n",
      "dtypes: datetime64[ns](1), float64(4), int64(11)\n",
      "memory usage: 91.5 KB\n"
     ]
    }
   ],
   "source": [
    "day_df.info()"
   ]
  },
  {
   "cell_type": "markdown",
   "metadata": {},
   "source": [
    "Dapat dilihat bahwa tipe data pada kolom dteday telah berubah menjadi datetime.\n",
    "\n",
    "- **Membersihkan data hour_df**\n",
    "\n",
    "Masalah yang dimiliki pada data hour_df sama seperti masalah pada data day_df sehingga kita hanya perlu melakukan hal yang sama."
   ]
  },
  {
   "cell_type": "code",
   "execution_count": 11,
   "metadata": {},
   "outputs": [],
   "source": [
    "hour_df['dteday'] = pd.to_datetime(hour_df['dteday'])"
   ]
  },
  {
   "cell_type": "markdown",
   "metadata": {},
   "source": [
    "Periksa kembali tipe data tersebut untuk memastikan hal ini berjalan sesuai harapan"
   ]
  },
  {
   "cell_type": "code",
   "execution_count": 12,
   "metadata": {},
   "outputs": [
    {
     "name": "stdout",
     "output_type": "stream",
     "text": [
      "<class 'pandas.core.frame.DataFrame'>\n",
      "RangeIndex: 17379 entries, 0 to 17378\n",
      "Data columns (total 17 columns):\n",
      " #   Column      Non-Null Count  Dtype         \n",
      "---  ------      --------------  -----         \n",
      " 0   instant     17379 non-null  int64         \n",
      " 1   dteday      17379 non-null  datetime64[ns]\n",
      " 2   season      17379 non-null  int64         \n",
      " 3   yr          17379 non-null  int64         \n",
      " 4   mnth        17379 non-null  int64         \n",
      " 5   hr          17379 non-null  int64         \n",
      " 6   holiday     17379 non-null  int64         \n",
      " 7   weekday     17379 non-null  int64         \n",
      " 8   workingday  17379 non-null  int64         \n",
      " 9   weathersit  17379 non-null  int64         \n",
      " 10  temp        17379 non-null  float64       \n",
      " 11  atemp       17379 non-null  float64       \n",
      " 12  hum         17379 non-null  float64       \n",
      " 13  windspeed   17379 non-null  float64       \n",
      " 14  casual      17379 non-null  int64         \n",
      " 15  registered  17379 non-null  int64         \n",
      " 16  cnt         17379 non-null  int64         \n",
      "dtypes: datetime64[ns](1), float64(4), int64(12)\n",
      "memory usage: 2.3 MB\n"
     ]
    }
   ],
   "source": [
    "hour_df.info()"
   ]
  },
  {
   "cell_type": "markdown",
   "metadata": {},
   "source": [
    "Dapat dilihat bahwa tipe data pada kolom dteday telah berubah menjadi datetime."
   ]
  },
  {
   "cell_type": "markdown",
   "metadata": {
    "id": "Q_5ejIqckiSP"
   },
   "source": [
    "**Insight:**\n",
    "- Data day_df telah dibersihkan dengan mengubah tipe data kolom dteday menjadi datetime.\n",
    "- Data hour_df telah dibersihkan dengan mengubah tipe data kolom dteday menjadi datetime."
   ]
  },
  {
   "cell_type": "markdown",
   "metadata": {
    "id": "gp-Y6wU38DC1"
   },
   "source": [
    "## Exploratory Data Analysis (EDA)"
   ]
  },
  {
   "cell_type": "markdown",
   "metadata": {
    "id": "MW7WF2kr8DC1"
   },
   "source": [
    "### Ekplorasi Data day_df\n",
    "Sebagai permulaan, kita akan melihat rangkuman parameter statistik dari data day_df menggunakan method describe()."
   ]
  },
  {
   "cell_type": "code",
   "execution_count": 13,
   "metadata": {
    "id": "e9CQCZjk8DC2"
   },
   "outputs": [
    {
     "data": {
      "text/html": [
       "<div>\n",
       "<style scoped>\n",
       "    .dataframe tbody tr th:only-of-type {\n",
       "        vertical-align: middle;\n",
       "    }\n",
       "\n",
       "    .dataframe tbody tr th {\n",
       "        vertical-align: top;\n",
       "    }\n",
       "\n",
       "    .dataframe thead th {\n",
       "        text-align: right;\n",
       "    }\n",
       "</style>\n",
       "<table border=\"1\" class=\"dataframe\">\n",
       "  <thead>\n",
       "    <tr style=\"text-align: right;\">\n",
       "      <th></th>\n",
       "      <th>instant</th>\n",
       "      <th>dteday</th>\n",
       "      <th>season</th>\n",
       "      <th>yr</th>\n",
       "      <th>mnth</th>\n",
       "      <th>holiday</th>\n",
       "      <th>weekday</th>\n",
       "      <th>workingday</th>\n",
       "      <th>weathersit</th>\n",
       "      <th>temp</th>\n",
       "      <th>atemp</th>\n",
       "      <th>hum</th>\n",
       "      <th>windspeed</th>\n",
       "      <th>casual</th>\n",
       "      <th>registered</th>\n",
       "      <th>cnt</th>\n",
       "    </tr>\n",
       "  </thead>\n",
       "  <tbody>\n",
       "    <tr>\n",
       "      <th>count</th>\n",
       "      <td>731.000000</td>\n",
       "      <td>731</td>\n",
       "      <td>731.000000</td>\n",
       "      <td>731.000000</td>\n",
       "      <td>731.000000</td>\n",
       "      <td>731.000000</td>\n",
       "      <td>731.000000</td>\n",
       "      <td>731.000000</td>\n",
       "      <td>731.000000</td>\n",
       "      <td>731.000000</td>\n",
       "      <td>731.000000</td>\n",
       "      <td>731.000000</td>\n",
       "      <td>731.000000</td>\n",
       "      <td>731.000000</td>\n",
       "      <td>731.000000</td>\n",
       "      <td>731.000000</td>\n",
       "    </tr>\n",
       "    <tr>\n",
       "      <th>mean</th>\n",
       "      <td>366.000000</td>\n",
       "      <td>2012-01-01 00:00:00</td>\n",
       "      <td>2.496580</td>\n",
       "      <td>0.500684</td>\n",
       "      <td>6.519836</td>\n",
       "      <td>0.028728</td>\n",
       "      <td>2.997264</td>\n",
       "      <td>0.683995</td>\n",
       "      <td>1.395349</td>\n",
       "      <td>0.495385</td>\n",
       "      <td>0.474354</td>\n",
       "      <td>0.627894</td>\n",
       "      <td>0.190486</td>\n",
       "      <td>848.176471</td>\n",
       "      <td>3656.172367</td>\n",
       "      <td>4504.348837</td>\n",
       "    </tr>\n",
       "    <tr>\n",
       "      <th>min</th>\n",
       "      <td>1.000000</td>\n",
       "      <td>2011-01-01 00:00:00</td>\n",
       "      <td>1.000000</td>\n",
       "      <td>0.000000</td>\n",
       "      <td>1.000000</td>\n",
       "      <td>0.000000</td>\n",
       "      <td>0.000000</td>\n",
       "      <td>0.000000</td>\n",
       "      <td>1.000000</td>\n",
       "      <td>0.059130</td>\n",
       "      <td>0.079070</td>\n",
       "      <td>0.000000</td>\n",
       "      <td>0.022392</td>\n",
       "      <td>2.000000</td>\n",
       "      <td>20.000000</td>\n",
       "      <td>22.000000</td>\n",
       "    </tr>\n",
       "    <tr>\n",
       "      <th>25%</th>\n",
       "      <td>183.500000</td>\n",
       "      <td>2011-07-02 12:00:00</td>\n",
       "      <td>2.000000</td>\n",
       "      <td>0.000000</td>\n",
       "      <td>4.000000</td>\n",
       "      <td>0.000000</td>\n",
       "      <td>1.000000</td>\n",
       "      <td>0.000000</td>\n",
       "      <td>1.000000</td>\n",
       "      <td>0.337083</td>\n",
       "      <td>0.337842</td>\n",
       "      <td>0.520000</td>\n",
       "      <td>0.134950</td>\n",
       "      <td>315.500000</td>\n",
       "      <td>2497.000000</td>\n",
       "      <td>3152.000000</td>\n",
       "    </tr>\n",
       "    <tr>\n",
       "      <th>50%</th>\n",
       "      <td>366.000000</td>\n",
       "      <td>2012-01-01 00:00:00</td>\n",
       "      <td>3.000000</td>\n",
       "      <td>1.000000</td>\n",
       "      <td>7.000000</td>\n",
       "      <td>0.000000</td>\n",
       "      <td>3.000000</td>\n",
       "      <td>1.000000</td>\n",
       "      <td>1.000000</td>\n",
       "      <td>0.498333</td>\n",
       "      <td>0.486733</td>\n",
       "      <td>0.626667</td>\n",
       "      <td>0.180975</td>\n",
       "      <td>713.000000</td>\n",
       "      <td>3662.000000</td>\n",
       "      <td>4548.000000</td>\n",
       "    </tr>\n",
       "    <tr>\n",
       "      <th>75%</th>\n",
       "      <td>548.500000</td>\n",
       "      <td>2012-07-01 12:00:00</td>\n",
       "      <td>3.000000</td>\n",
       "      <td>1.000000</td>\n",
       "      <td>10.000000</td>\n",
       "      <td>0.000000</td>\n",
       "      <td>5.000000</td>\n",
       "      <td>1.000000</td>\n",
       "      <td>2.000000</td>\n",
       "      <td>0.655417</td>\n",
       "      <td>0.608602</td>\n",
       "      <td>0.730209</td>\n",
       "      <td>0.233214</td>\n",
       "      <td>1096.000000</td>\n",
       "      <td>4776.500000</td>\n",
       "      <td>5956.000000</td>\n",
       "    </tr>\n",
       "    <tr>\n",
       "      <th>max</th>\n",
       "      <td>731.000000</td>\n",
       "      <td>2012-12-31 00:00:00</td>\n",
       "      <td>4.000000</td>\n",
       "      <td>1.000000</td>\n",
       "      <td>12.000000</td>\n",
       "      <td>1.000000</td>\n",
       "      <td>6.000000</td>\n",
       "      <td>1.000000</td>\n",
       "      <td>3.000000</td>\n",
       "      <td>0.861667</td>\n",
       "      <td>0.840896</td>\n",
       "      <td>0.972500</td>\n",
       "      <td>0.507463</td>\n",
       "      <td>3410.000000</td>\n",
       "      <td>6946.000000</td>\n",
       "      <td>8714.000000</td>\n",
       "    </tr>\n",
       "    <tr>\n",
       "      <th>std</th>\n",
       "      <td>211.165812</td>\n",
       "      <td>NaN</td>\n",
       "      <td>1.110807</td>\n",
       "      <td>0.500342</td>\n",
       "      <td>3.451913</td>\n",
       "      <td>0.167155</td>\n",
       "      <td>2.004787</td>\n",
       "      <td>0.465233</td>\n",
       "      <td>0.544894</td>\n",
       "      <td>0.183051</td>\n",
       "      <td>0.162961</td>\n",
       "      <td>0.142429</td>\n",
       "      <td>0.077498</td>\n",
       "      <td>686.622488</td>\n",
       "      <td>1560.256377</td>\n",
       "      <td>1937.211452</td>\n",
       "    </tr>\n",
       "  </tbody>\n",
       "</table>\n",
       "</div>"
      ],
      "text/plain": [
       "          instant               dteday      season          yr        mnth  \\\n",
       "count  731.000000                  731  731.000000  731.000000  731.000000   \n",
       "mean   366.000000  2012-01-01 00:00:00    2.496580    0.500684    6.519836   \n",
       "min      1.000000  2011-01-01 00:00:00    1.000000    0.000000    1.000000   \n",
       "25%    183.500000  2011-07-02 12:00:00    2.000000    0.000000    4.000000   \n",
       "50%    366.000000  2012-01-01 00:00:00    3.000000    1.000000    7.000000   \n",
       "75%    548.500000  2012-07-01 12:00:00    3.000000    1.000000   10.000000   \n",
       "max    731.000000  2012-12-31 00:00:00    4.000000    1.000000   12.000000   \n",
       "std    211.165812                  NaN    1.110807    0.500342    3.451913   \n",
       "\n",
       "          holiday     weekday  workingday  weathersit        temp       atemp  \\\n",
       "count  731.000000  731.000000  731.000000  731.000000  731.000000  731.000000   \n",
       "mean     0.028728    2.997264    0.683995    1.395349    0.495385    0.474354   \n",
       "min      0.000000    0.000000    0.000000    1.000000    0.059130    0.079070   \n",
       "25%      0.000000    1.000000    0.000000    1.000000    0.337083    0.337842   \n",
       "50%      0.000000    3.000000    1.000000    1.000000    0.498333    0.486733   \n",
       "75%      0.000000    5.000000    1.000000    2.000000    0.655417    0.608602   \n",
       "max      1.000000    6.000000    1.000000    3.000000    0.861667    0.840896   \n",
       "std      0.167155    2.004787    0.465233    0.544894    0.183051    0.162961   \n",
       "\n",
       "              hum   windspeed       casual   registered          cnt  \n",
       "count  731.000000  731.000000   731.000000   731.000000   731.000000  \n",
       "mean     0.627894    0.190486   848.176471  3656.172367  4504.348837  \n",
       "min      0.000000    0.022392     2.000000    20.000000    22.000000  \n",
       "25%      0.520000    0.134950   315.500000  2497.000000  3152.000000  \n",
       "50%      0.626667    0.180975   713.000000  3662.000000  4548.000000  \n",
       "75%      0.730209    0.233214  1096.000000  4776.500000  5956.000000  \n",
       "max      0.972500    0.507463  3410.000000  6946.000000  8714.000000  \n",
       "std      0.142429    0.077498   686.622488  1560.256377  1937.211452  "
      ]
     },
     "execution_count": 13,
     "metadata": {},
     "output_type": "execute_result"
    }
   ],
   "source": [
    "day_df.describe(include=\"all\")"
   ]
  },
  {
   "cell_type": "markdown",
   "metadata": {},
   "source": [
    "Berdasarkan rangkuman parameter statistik di atas, kita akan memperoleh informasi jumlah sepeda yang disewa setiap harinya berjumlah di kisaran 22 hingga 8714 dengan rata-rata sebanyak 4504.348837.\n",
    "\n",
    "Selanjutnya, kita akan mengelompokkan jumlah sepeda yang dipinjam berdasarkan cuaca."
   ]
  },
  {
   "cell_type": "code",
   "execution_count": 14,
   "metadata": {},
   "outputs": [
    {
     "data": {
      "text/html": [
       "<div>\n",
       "<style scoped>\n",
       "    .dataframe tbody tr th:only-of-type {\n",
       "        vertical-align: middle;\n",
       "    }\n",
       "\n",
       "    .dataframe tbody tr th {\n",
       "        vertical-align: top;\n",
       "    }\n",
       "\n",
       "    .dataframe thead th {\n",
       "        text-align: right;\n",
       "    }\n",
       "</style>\n",
       "<table border=\"1\" class=\"dataframe\">\n",
       "  <thead>\n",
       "    <tr style=\"text-align: right;\">\n",
       "      <th></th>\n",
       "      <th>casual</th>\n",
       "      <th>registered</th>\n",
       "      <th>cnt</th>\n",
       "    </tr>\n",
       "    <tr>\n",
       "      <th>weathersit</th>\n",
       "      <th></th>\n",
       "      <th></th>\n",
       "      <th></th>\n",
       "    </tr>\n",
       "  </thead>\n",
       "  <tbody>\n",
       "    <tr>\n",
       "      <th>1</th>\n",
       "      <td>446346</td>\n",
       "      <td>1811606</td>\n",
       "      <td>2257952</td>\n",
       "    </tr>\n",
       "    <tr>\n",
       "      <th>2</th>\n",
       "      <td>169776</td>\n",
       "      <td>827082</td>\n",
       "      <td>996858</td>\n",
       "    </tr>\n",
       "    <tr>\n",
       "      <th>3</th>\n",
       "      <td>3895</td>\n",
       "      <td>33974</td>\n",
       "      <td>37869</td>\n",
       "    </tr>\n",
       "  </tbody>\n",
       "</table>\n",
       "</div>"
      ],
      "text/plain": [
       "            casual  registered      cnt\n",
       "weathersit                             \n",
       "1           446346     1811606  2257952\n",
       "2           169776      827082   996858\n",
       "3             3895       33974    37869"
      ]
     },
     "execution_count": 14,
     "metadata": {},
     "output_type": "execute_result"
    }
   ],
   "source": [
    "day_df.groupby(by=\"weathersit\").agg({\n",
    "    \"casual\": \"sum\",\n",
    "    \"registered\": \"sum\",\n",
    "    \"cnt\": \"sum\",\n",
    "})"
   ]
  },
  {
   "cell_type": "markdown",
   "metadata": {},
   "source": [
    "Kode di atas akan menghasilkan sebuah pivot table. Ia memuat informasi jumlah sepeda yang dikelompokkan berdasarkan. Dari table tersebut dapat dilihat bahwa jumlah sepeda yang disewakan paling banyak pada saat cuaca Cerah, Sedikit awan, Berawan sebagian (dilambangkan angka 1). Selain itu, dari table di atas ditunjukkan tidak ada sepeda yang disewakan pada saat cuaca Hujan Lebat + Es + Badai Petir + Kabut, Salju + Kabut (dilambangkan angka 4).\n",
    "\n",
    "Selanjutnya, kita akan mengelompokkan jumlah sepeda yang dipinjam menurut hari dalam sepekan."
   ]
  },
  {
   "cell_type": "code",
   "execution_count": 15,
   "metadata": {},
   "outputs": [
    {
     "data": {
      "text/html": [
       "<div>\n",
       "<style scoped>\n",
       "    .dataframe tbody tr th:only-of-type {\n",
       "        vertical-align: middle;\n",
       "    }\n",
       "\n",
       "    .dataframe tbody tr th {\n",
       "        vertical-align: top;\n",
       "    }\n",
       "\n",
       "    .dataframe thead th {\n",
       "        text-align: right;\n",
       "    }\n",
       "</style>\n",
       "<table border=\"1\" class=\"dataframe\">\n",
       "  <thead>\n",
       "    <tr style=\"text-align: right;\">\n",
       "      <th></th>\n",
       "      <th>casual</th>\n",
       "      <th>registered</th>\n",
       "      <th>cnt</th>\n",
       "    </tr>\n",
       "    <tr>\n",
       "      <th>weekday</th>\n",
       "      <th></th>\n",
       "      <th></th>\n",
       "      <th></th>\n",
       "    </tr>\n",
       "  </thead>\n",
       "  <tbody>\n",
       "    <tr>\n",
       "      <th>0</th>\n",
       "      <td>140521</td>\n",
       "      <td>303506</td>\n",
       "      <td>444027</td>\n",
       "    </tr>\n",
       "    <tr>\n",
       "      <th>1</th>\n",
       "      <td>70784</td>\n",
       "      <td>384719</td>\n",
       "      <td>455503</td>\n",
       "    </tr>\n",
       "    <tr>\n",
       "      <th>2</th>\n",
       "      <td>57843</td>\n",
       "      <td>411266</td>\n",
       "      <td>469109</td>\n",
       "    </tr>\n",
       "    <tr>\n",
       "      <th>3</th>\n",
       "      <td>57319</td>\n",
       "      <td>415729</td>\n",
       "      <td>473048</td>\n",
       "    </tr>\n",
       "    <tr>\n",
       "      <th>4</th>\n",
       "      <td>61460</td>\n",
       "      <td>423935</td>\n",
       "      <td>485395</td>\n",
       "    </tr>\n",
       "    <tr>\n",
       "      <th>5</th>\n",
       "      <td>78238</td>\n",
       "      <td>409552</td>\n",
       "      <td>487790</td>\n",
       "    </tr>\n",
       "    <tr>\n",
       "      <th>6</th>\n",
       "      <td>153852</td>\n",
       "      <td>323955</td>\n",
       "      <td>477807</td>\n",
       "    </tr>\n",
       "  </tbody>\n",
       "</table>\n",
       "</div>"
      ],
      "text/plain": [
       "         casual  registered     cnt\n",
       "weekday                            \n",
       "0        140521      303506  444027\n",
       "1         70784      384719  455503\n",
       "2         57843      411266  469109\n",
       "3         57319      415729  473048\n",
       "4         61460      423935  485395\n",
       "5         78238      409552  487790\n",
       "6        153852      323955  477807"
      ]
     },
     "execution_count": 15,
     "metadata": {},
     "output_type": "execute_result"
    }
   ],
   "source": [
    "day_df.groupby(by=\"weekday\").agg({\n",
    "    \"casual\": \"sum\",\n",
    "    \"registered\": \"sum\",\n",
    "    \"cnt\": \"sum\",\n",
    "})"
   ]
  },
  {
   "cell_type": "markdown",
   "metadata": {},
   "source": [
    "Dari table tersebut dapat dilihat bahwa jumlah sepeda yang disewakan paling banyak pada saat weekend yaitu hari Minggu dan Sabtu (dilambangkan angka 0 dan 6).\n",
    "\n",
    "Selanjutnya, kita akan mengelompokkan jumlah sepeda yang dipinjam berdasarkan apakah hari tersebut merupakan hari kerja atau hari libur."
   ]
  },
  {
   "cell_type": "code",
   "execution_count": 16,
   "metadata": {},
   "outputs": [
    {
     "data": {
      "text/html": [
       "<div>\n",
       "<style scoped>\n",
       "    .dataframe tbody tr th:only-of-type {\n",
       "        vertical-align: middle;\n",
       "    }\n",
       "\n",
       "    .dataframe tbody tr th {\n",
       "        vertical-align: top;\n",
       "    }\n",
       "\n",
       "    .dataframe thead th {\n",
       "        text-align: right;\n",
       "    }\n",
       "</style>\n",
       "<table border=\"1\" class=\"dataframe\">\n",
       "  <thead>\n",
       "    <tr style=\"text-align: right;\">\n",
       "      <th></th>\n",
       "      <th>casual</th>\n",
       "      <th>registered</th>\n",
       "      <th>cnt</th>\n",
       "    </tr>\n",
       "    <tr>\n",
       "      <th>workingday</th>\n",
       "      <th></th>\n",
       "      <th></th>\n",
       "      <th></th>\n",
       "    </tr>\n",
       "  </thead>\n",
       "  <tbody>\n",
       "    <tr>\n",
       "      <th>0</th>\n",
       "      <td>316732</td>\n",
       "      <td>683537</td>\n",
       "      <td>1000269</td>\n",
       "    </tr>\n",
       "    <tr>\n",
       "      <th>1</th>\n",
       "      <td>303285</td>\n",
       "      <td>1989125</td>\n",
       "      <td>2292410</td>\n",
       "    </tr>\n",
       "  </tbody>\n",
       "</table>\n",
       "</div>"
      ],
      "text/plain": [
       "            casual  registered      cnt\n",
       "workingday                             \n",
       "0           316732      683537  1000269\n",
       "1           303285     1989125  2292410"
      ]
     },
     "execution_count": 16,
     "metadata": {},
     "output_type": "execute_result"
    }
   ],
   "source": [
    "day_df.groupby(by=\"workingday\").agg({\n",
    "    \"casual\": \"sum\",\n",
    "    \"registered\": \"sum\",\n",
    "    \"cnt\": \"sum\",\n",
    "})"
   ]
  },
  {
   "cell_type": "markdown",
   "metadata": {},
   "source": [
    "Dari table tersebut dapat dilihat bahwa jumlah sepeda pengguna kasual lebih banyak pada hari libur, sedangkan jumlah sepeda pengguna yang terdaftar atau berlangganan lebih banyak pada hari kerja.\n",
    "\n",
    "Selanjutnya, kita akan melihat pola penggunaan sepeda antara pengguna kasual dan pengguna yang terdaftar pada setiap bulannya setiap tahun.\n",
    "Untuk mendapatkan pola penggunaan sepeda pada tahun 2010, jalankan source code berikut."
   ]
  },
  {
   "cell_type": "code",
   "execution_count": 17,
   "metadata": {},
   "outputs": [
    {
     "data": {
      "text/html": [
       "<div>\n",
       "<style scoped>\n",
       "    .dataframe tbody tr th:only-of-type {\n",
       "        vertical-align: middle;\n",
       "    }\n",
       "\n",
       "    .dataframe tbody tr th {\n",
       "        vertical-align: top;\n",
       "    }\n",
       "\n",
       "    .dataframe thead th {\n",
       "        text-align: right;\n",
       "    }\n",
       "</style>\n",
       "<table border=\"1\" class=\"dataframe\">\n",
       "  <thead>\n",
       "    <tr style=\"text-align: right;\">\n",
       "      <th></th>\n",
       "      <th>casual</th>\n",
       "      <th>registered</th>\n",
       "    </tr>\n",
       "    <tr>\n",
       "      <th>mnth</th>\n",
       "      <th></th>\n",
       "      <th></th>\n",
       "    </tr>\n",
       "  </thead>\n",
       "  <tbody>\n",
       "    <tr>\n",
       "      <th>1</th>\n",
       "      <td>3073</td>\n",
       "      <td>35116</td>\n",
       "    </tr>\n",
       "    <tr>\n",
       "      <th>2</th>\n",
       "      <td>6242</td>\n",
       "      <td>41973</td>\n",
       "    </tr>\n",
       "    <tr>\n",
       "      <th>3</th>\n",
       "      <td>12826</td>\n",
       "      <td>51219</td>\n",
       "    </tr>\n",
       "    <tr>\n",
       "      <th>4</th>\n",
       "      <td>22346</td>\n",
       "      <td>72524</td>\n",
       "    </tr>\n",
       "    <tr>\n",
       "      <th>5</th>\n",
       "      <td>31050</td>\n",
       "      <td>104771</td>\n",
       "    </tr>\n",
       "    <tr>\n",
       "      <th>6</th>\n",
       "      <td>30612</td>\n",
       "      <td>112900</td>\n",
       "    </tr>\n",
       "    <tr>\n",
       "      <th>7</th>\n",
       "      <td>36452</td>\n",
       "      <td>104889</td>\n",
       "    </tr>\n",
       "    <tr>\n",
       "      <th>8</th>\n",
       "      <td>28842</td>\n",
       "      <td>107849</td>\n",
       "    </tr>\n",
       "    <tr>\n",
       "      <th>9</th>\n",
       "      <td>26545</td>\n",
       "      <td>100873</td>\n",
       "    </tr>\n",
       "    <tr>\n",
       "      <th>10</th>\n",
       "      <td>25222</td>\n",
       "      <td>98289</td>\n",
       "    </tr>\n",
       "    <tr>\n",
       "      <th>11</th>\n",
       "      <td>15594</td>\n",
       "      <td>86573</td>\n",
       "    </tr>\n",
       "    <tr>\n",
       "      <th>12</th>\n",
       "      <td>8448</td>\n",
       "      <td>78875</td>\n",
       "    </tr>\n",
       "  </tbody>\n",
       "</table>\n",
       "</div>"
      ],
      "text/plain": [
       "      casual  registered\n",
       "mnth                    \n",
       "1       3073       35116\n",
       "2       6242       41973\n",
       "3      12826       51219\n",
       "4      22346       72524\n",
       "5      31050      104771\n",
       "6      30612      112900\n",
       "7      36452      104889\n",
       "8      28842      107849\n",
       "9      26545      100873\n",
       "10     25222       98289\n",
       "11     15594       86573\n",
       "12      8448       78875"
      ]
     },
     "execution_count": 17,
     "metadata": {},
     "output_type": "execute_result"
    }
   ],
   "source": [
    "day_df[day_df['yr'] == 0].groupby('mnth').agg({\n",
    "    'casual': 'sum',\n",
    "    'registered': 'sum'\n",
    "})"
   ]
  },
  {
   "cell_type": "markdown",
   "metadata": {},
   "source": [
    "Untuk mendapatkan pola penggunaan sepeda pada tahun 2011, jalankan source code berikut."
   ]
  },
  {
   "cell_type": "code",
   "execution_count": 18,
   "metadata": {},
   "outputs": [
    {
     "data": {
      "text/html": [
       "<div>\n",
       "<style scoped>\n",
       "    .dataframe tbody tr th:only-of-type {\n",
       "        vertical-align: middle;\n",
       "    }\n",
       "\n",
       "    .dataframe tbody tr th {\n",
       "        vertical-align: top;\n",
       "    }\n",
       "\n",
       "    .dataframe thead th {\n",
       "        text-align: right;\n",
       "    }\n",
       "</style>\n",
       "<table border=\"1\" class=\"dataframe\">\n",
       "  <thead>\n",
       "    <tr style=\"text-align: right;\">\n",
       "      <th></th>\n",
       "      <th>casual</th>\n",
       "      <th>registered</th>\n",
       "    </tr>\n",
       "    <tr>\n",
       "      <th>mnth</th>\n",
       "      <th></th>\n",
       "      <th></th>\n",
       "    </tr>\n",
       "  </thead>\n",
       "  <tbody>\n",
       "    <tr>\n",
       "      <th>1</th>\n",
       "      <td>8969</td>\n",
       "      <td>87775</td>\n",
       "    </tr>\n",
       "    <tr>\n",
       "      <th>2</th>\n",
       "      <td>8721</td>\n",
       "      <td>94416</td>\n",
       "    </tr>\n",
       "    <tr>\n",
       "      <th>3</th>\n",
       "      <td>31618</td>\n",
       "      <td>133257</td>\n",
       "    </tr>\n",
       "    <tr>\n",
       "      <th>4</th>\n",
       "      <td>38456</td>\n",
       "      <td>135768</td>\n",
       "    </tr>\n",
       "    <tr>\n",
       "      <th>5</th>\n",
       "      <td>44235</td>\n",
       "      <td>151630</td>\n",
       "    </tr>\n",
       "    <tr>\n",
       "      <th>6</th>\n",
       "      <td>43294</td>\n",
       "      <td>159536</td>\n",
       "    </tr>\n",
       "    <tr>\n",
       "      <th>7</th>\n",
       "      <td>41705</td>\n",
       "      <td>161902</td>\n",
       "    </tr>\n",
       "    <tr>\n",
       "      <th>8</th>\n",
       "      <td>43197</td>\n",
       "      <td>171306</td>\n",
       "    </tr>\n",
       "    <tr>\n",
       "      <th>9</th>\n",
       "      <td>43778</td>\n",
       "      <td>174795</td>\n",
       "    </tr>\n",
       "    <tr>\n",
       "      <th>10</th>\n",
       "      <td>34538</td>\n",
       "      <td>164303</td>\n",
       "    </tr>\n",
       "    <tr>\n",
       "      <th>11</th>\n",
       "      <td>21009</td>\n",
       "      <td>131655</td>\n",
       "    </tr>\n",
       "    <tr>\n",
       "      <th>12</th>\n",
       "      <td>13245</td>\n",
       "      <td>110468</td>\n",
       "    </tr>\n",
       "  </tbody>\n",
       "</table>\n",
       "</div>"
      ],
      "text/plain": [
       "      casual  registered\n",
       "mnth                    \n",
       "1       8969       87775\n",
       "2       8721       94416\n",
       "3      31618      133257\n",
       "4      38456      135768\n",
       "5      44235      151630\n",
       "6      43294      159536\n",
       "7      41705      161902\n",
       "8      43197      171306\n",
       "9      43778      174795\n",
       "10     34538      164303\n",
       "11     21009      131655\n",
       "12     13245      110468"
      ]
     },
     "execution_count": 18,
     "metadata": {},
     "output_type": "execute_result"
    }
   ],
   "source": [
    "day_df[day_df['yr'] == 1].groupby('mnth').agg({\n",
    "    'casual': 'sum',\n",
    "    'registered': 'sum'\n",
    "})"
   ]
  },
  {
   "cell_type": "markdown",
   "metadata": {},
   "source": [
    "Dari kedua table di atas, dapat dilihat bahwa jumlah peminjaman sepeda pengguna yang terdaftar relatif lebih konsisten tiap bulannya dibandingkan dengan pengguna kasual.\n",
    "\n",
    "### Ekplorasi Data hour_df\n",
    "Sebagai permulaan, kita akan melihat rangkuman parameter statistik dari data hour_df"
   ]
  },
  {
   "cell_type": "code",
   "execution_count": 19,
   "metadata": {
    "scrolled": true
   },
   "outputs": [
    {
     "data": {
      "text/html": [
       "<div>\n",
       "<style scoped>\n",
       "    .dataframe tbody tr th:only-of-type {\n",
       "        vertical-align: middle;\n",
       "    }\n",
       "\n",
       "    .dataframe tbody tr th {\n",
       "        vertical-align: top;\n",
       "    }\n",
       "\n",
       "    .dataframe thead th {\n",
       "        text-align: right;\n",
       "    }\n",
       "</style>\n",
       "<table border=\"1\" class=\"dataframe\">\n",
       "  <thead>\n",
       "    <tr style=\"text-align: right;\">\n",
       "      <th></th>\n",
       "      <th>instant</th>\n",
       "      <th>dteday</th>\n",
       "      <th>season</th>\n",
       "      <th>yr</th>\n",
       "      <th>mnth</th>\n",
       "      <th>hr</th>\n",
       "      <th>holiday</th>\n",
       "      <th>weekday</th>\n",
       "      <th>workingday</th>\n",
       "      <th>weathersit</th>\n",
       "      <th>temp</th>\n",
       "      <th>atemp</th>\n",
       "      <th>hum</th>\n",
       "      <th>windspeed</th>\n",
       "      <th>casual</th>\n",
       "      <th>registered</th>\n",
       "      <th>cnt</th>\n",
       "    </tr>\n",
       "  </thead>\n",
       "  <tbody>\n",
       "    <tr>\n",
       "      <th>count</th>\n",
       "      <td>17379.0000</td>\n",
       "      <td>17379</td>\n",
       "      <td>17379.000000</td>\n",
       "      <td>17379.000000</td>\n",
       "      <td>17379.000000</td>\n",
       "      <td>17379.000000</td>\n",
       "      <td>17379.000000</td>\n",
       "      <td>17379.000000</td>\n",
       "      <td>17379.000000</td>\n",
       "      <td>17379.000000</td>\n",
       "      <td>17379.000000</td>\n",
       "      <td>17379.000000</td>\n",
       "      <td>17379.000000</td>\n",
       "      <td>17379.000000</td>\n",
       "      <td>17379.000000</td>\n",
       "      <td>17379.000000</td>\n",
       "      <td>17379.000000</td>\n",
       "    </tr>\n",
       "    <tr>\n",
       "      <th>mean</th>\n",
       "      <td>8690.0000</td>\n",
       "      <td>2012-01-02 04:08:34.552045568</td>\n",
       "      <td>2.501640</td>\n",
       "      <td>0.502561</td>\n",
       "      <td>6.537775</td>\n",
       "      <td>11.546752</td>\n",
       "      <td>0.028770</td>\n",
       "      <td>3.003683</td>\n",
       "      <td>0.682721</td>\n",
       "      <td>1.425283</td>\n",
       "      <td>0.496987</td>\n",
       "      <td>0.475775</td>\n",
       "      <td>0.627229</td>\n",
       "      <td>0.190098</td>\n",
       "      <td>35.676218</td>\n",
       "      <td>153.786869</td>\n",
       "      <td>189.463088</td>\n",
       "    </tr>\n",
       "    <tr>\n",
       "      <th>min</th>\n",
       "      <td>1.0000</td>\n",
       "      <td>2011-01-01 00:00:00</td>\n",
       "      <td>1.000000</td>\n",
       "      <td>0.000000</td>\n",
       "      <td>1.000000</td>\n",
       "      <td>0.000000</td>\n",
       "      <td>0.000000</td>\n",
       "      <td>0.000000</td>\n",
       "      <td>0.000000</td>\n",
       "      <td>1.000000</td>\n",
       "      <td>0.020000</td>\n",
       "      <td>0.000000</td>\n",
       "      <td>0.000000</td>\n",
       "      <td>0.000000</td>\n",
       "      <td>0.000000</td>\n",
       "      <td>0.000000</td>\n",
       "      <td>1.000000</td>\n",
       "    </tr>\n",
       "    <tr>\n",
       "      <th>25%</th>\n",
       "      <td>4345.5000</td>\n",
       "      <td>2011-07-04 00:00:00</td>\n",
       "      <td>2.000000</td>\n",
       "      <td>0.000000</td>\n",
       "      <td>4.000000</td>\n",
       "      <td>6.000000</td>\n",
       "      <td>0.000000</td>\n",
       "      <td>1.000000</td>\n",
       "      <td>0.000000</td>\n",
       "      <td>1.000000</td>\n",
       "      <td>0.340000</td>\n",
       "      <td>0.333300</td>\n",
       "      <td>0.480000</td>\n",
       "      <td>0.104500</td>\n",
       "      <td>4.000000</td>\n",
       "      <td>34.000000</td>\n",
       "      <td>40.000000</td>\n",
       "    </tr>\n",
       "    <tr>\n",
       "      <th>50%</th>\n",
       "      <td>8690.0000</td>\n",
       "      <td>2012-01-02 00:00:00</td>\n",
       "      <td>3.000000</td>\n",
       "      <td>1.000000</td>\n",
       "      <td>7.000000</td>\n",
       "      <td>12.000000</td>\n",
       "      <td>0.000000</td>\n",
       "      <td>3.000000</td>\n",
       "      <td>1.000000</td>\n",
       "      <td>1.000000</td>\n",
       "      <td>0.500000</td>\n",
       "      <td>0.484800</td>\n",
       "      <td>0.630000</td>\n",
       "      <td>0.194000</td>\n",
       "      <td>17.000000</td>\n",
       "      <td>115.000000</td>\n",
       "      <td>142.000000</td>\n",
       "    </tr>\n",
       "    <tr>\n",
       "      <th>75%</th>\n",
       "      <td>13034.5000</td>\n",
       "      <td>2012-07-02 00:00:00</td>\n",
       "      <td>3.000000</td>\n",
       "      <td>1.000000</td>\n",
       "      <td>10.000000</td>\n",
       "      <td>18.000000</td>\n",
       "      <td>0.000000</td>\n",
       "      <td>5.000000</td>\n",
       "      <td>1.000000</td>\n",
       "      <td>2.000000</td>\n",
       "      <td>0.660000</td>\n",
       "      <td>0.621200</td>\n",
       "      <td>0.780000</td>\n",
       "      <td>0.253700</td>\n",
       "      <td>48.000000</td>\n",
       "      <td>220.000000</td>\n",
       "      <td>281.000000</td>\n",
       "    </tr>\n",
       "    <tr>\n",
       "      <th>max</th>\n",
       "      <td>17379.0000</td>\n",
       "      <td>2012-12-31 00:00:00</td>\n",
       "      <td>4.000000</td>\n",
       "      <td>1.000000</td>\n",
       "      <td>12.000000</td>\n",
       "      <td>23.000000</td>\n",
       "      <td>1.000000</td>\n",
       "      <td>6.000000</td>\n",
       "      <td>1.000000</td>\n",
       "      <td>4.000000</td>\n",
       "      <td>1.000000</td>\n",
       "      <td>1.000000</td>\n",
       "      <td>1.000000</td>\n",
       "      <td>0.850700</td>\n",
       "      <td>367.000000</td>\n",
       "      <td>886.000000</td>\n",
       "      <td>977.000000</td>\n",
       "    </tr>\n",
       "    <tr>\n",
       "      <th>std</th>\n",
       "      <td>5017.0295</td>\n",
       "      <td>NaN</td>\n",
       "      <td>1.106918</td>\n",
       "      <td>0.500008</td>\n",
       "      <td>3.438776</td>\n",
       "      <td>6.914405</td>\n",
       "      <td>0.167165</td>\n",
       "      <td>2.005771</td>\n",
       "      <td>0.465431</td>\n",
       "      <td>0.639357</td>\n",
       "      <td>0.192556</td>\n",
       "      <td>0.171850</td>\n",
       "      <td>0.192930</td>\n",
       "      <td>0.122340</td>\n",
       "      <td>49.305030</td>\n",
       "      <td>151.357286</td>\n",
       "      <td>181.387599</td>\n",
       "    </tr>\n",
       "  </tbody>\n",
       "</table>\n",
       "</div>"
      ],
      "text/plain": [
       "          instant                         dteday        season            yr  \\\n",
       "count  17379.0000                          17379  17379.000000  17379.000000   \n",
       "mean    8690.0000  2012-01-02 04:08:34.552045568      2.501640      0.502561   \n",
       "min        1.0000            2011-01-01 00:00:00      1.000000      0.000000   \n",
       "25%     4345.5000            2011-07-04 00:00:00      2.000000      0.000000   \n",
       "50%     8690.0000            2012-01-02 00:00:00      3.000000      1.000000   \n",
       "75%    13034.5000            2012-07-02 00:00:00      3.000000      1.000000   \n",
       "max    17379.0000            2012-12-31 00:00:00      4.000000      1.000000   \n",
       "std     5017.0295                            NaN      1.106918      0.500008   \n",
       "\n",
       "               mnth            hr       holiday       weekday    workingday  \\\n",
       "count  17379.000000  17379.000000  17379.000000  17379.000000  17379.000000   \n",
       "mean       6.537775     11.546752      0.028770      3.003683      0.682721   \n",
       "min        1.000000      0.000000      0.000000      0.000000      0.000000   \n",
       "25%        4.000000      6.000000      0.000000      1.000000      0.000000   \n",
       "50%        7.000000     12.000000      0.000000      3.000000      1.000000   \n",
       "75%       10.000000     18.000000      0.000000      5.000000      1.000000   \n",
       "max       12.000000     23.000000      1.000000      6.000000      1.000000   \n",
       "std        3.438776      6.914405      0.167165      2.005771      0.465431   \n",
       "\n",
       "         weathersit          temp         atemp           hum     windspeed  \\\n",
       "count  17379.000000  17379.000000  17379.000000  17379.000000  17379.000000   \n",
       "mean       1.425283      0.496987      0.475775      0.627229      0.190098   \n",
       "min        1.000000      0.020000      0.000000      0.000000      0.000000   \n",
       "25%        1.000000      0.340000      0.333300      0.480000      0.104500   \n",
       "50%        1.000000      0.500000      0.484800      0.630000      0.194000   \n",
       "75%        2.000000      0.660000      0.621200      0.780000      0.253700   \n",
       "max        4.000000      1.000000      1.000000      1.000000      0.850700   \n",
       "std        0.639357      0.192556      0.171850      0.192930      0.122340   \n",
       "\n",
       "             casual    registered           cnt  \n",
       "count  17379.000000  17379.000000  17379.000000  \n",
       "mean      35.676218    153.786869    189.463088  \n",
       "min        0.000000      0.000000      1.000000  \n",
       "25%        4.000000     34.000000     40.000000  \n",
       "50%       17.000000    115.000000    142.000000  \n",
       "75%       48.000000    220.000000    281.000000  \n",
       "max      367.000000    886.000000    977.000000  \n",
       "std       49.305030    151.357286    181.387599  "
      ]
     },
     "execution_count": 19,
     "metadata": {},
     "output_type": "execute_result"
    }
   ],
   "source": [
    "hour_df.describe(include=\"all\")"
   ]
  },
  {
   "cell_type": "markdown",
   "metadata": {},
   "source": [
    "Berdasarkan rangkuman parameter statistik di atas, kita akan memperoleh informasi jumlah sepeda yang disewa setiap jamnya berjumlah di kisaran 1 hingga 977 dengan rata-rata sebanyak 189.463088.\n",
    "\n",
    "Selanjutnya, kita akan mencari jam puncak penggunaan sepeda baik oleh pengguna yang terdaftar maupun tidak terdaftar.\n",
    "\n",
    "Untuk melihat puncak jam penggunaan sepeda kasual, jalankan source code berikut."
   ]
  },
  {
   "cell_type": "code",
   "execution_count": 20,
   "metadata": {},
   "outputs": [
    {
     "data": {
      "text/plain": [
       "hr\n",
       "14    55089\n",
       "15    54606\n",
       "17    54220\n",
       "16    53834\n",
       "13    52713\n",
       "12    49718\n",
       "18    44496\n",
       "11    43286\n",
       "19    35505\n",
       "10    33789\n",
       "20    26378\n",
       "9     22458\n",
       "21    20570\n",
       "22    16200\n",
       "8     15761\n",
       "23    11065\n",
       "7      8037\n",
       "0      7375\n",
       "1      4709\n",
       "2      3412\n",
       "6      3017\n",
       "3      1893\n",
       "5      1012\n",
       "4       874\n",
       "Name: casual, dtype: int64"
      ]
     },
     "execution_count": 20,
     "metadata": {},
     "output_type": "execute_result"
    }
   ],
   "source": [
    "hour_df.groupby('hr').casual.sum().sort_values(ascending=False)"
   ]
  },
  {
   "cell_type": "markdown",
   "metadata": {},
   "source": [
    "Didapatkan bahwa puncak jam penggunaan sepeda kasual yaitu pada jam 14 atau jam 2 siang.\n",
    "\n",
    "Untuk melihat puncak jam penggunaan sepeda kasual, jalankan source code berikut."
   ]
  },
  {
   "cell_type": "code",
   "execution_count": 21,
   "metadata": {
    "scrolled": true
   },
   "outputs": [
    {
     "data": {
      "text/plain": [
       "hr\n",
       "17    282640\n",
       "18    265276\n",
       "8     245240\n",
       "19    191284\n",
       "16    173914\n",
       "7     146134\n",
       "20    138172\n",
       "9     136980\n",
       "12    134696\n",
       "13    132206\n",
       "15    128543\n",
       "14    120563\n",
       "11    108034\n",
       "21    104875\n",
       "10     92468\n",
       "22     79412\n",
       "23     52876\n",
       "6      52115\n",
       "0      31755\n",
       "1      19455\n",
       "5      13249\n",
       "2      12940\n",
       "3       6281\n",
       "4       3554\n",
       "Name: registered, dtype: int64"
      ]
     },
     "execution_count": 21,
     "metadata": {},
     "output_type": "execute_result"
    }
   ],
   "source": [
    "hour_df.groupby('hr').registered.sum().sort_values(ascending=False)"
   ]
  },
  {
   "cell_type": "markdown",
   "metadata": {},
   "source": [
    "Didapatkan bahwa puncak jam penggunaan sepeda kasual yaitu pada jam 17 atau jam 5 sore.\n",
    "\n",
    "Untuk melihat puncak jam penggunaan sepeda keseluruhan, jalankan source code berikut."
   ]
  },
  {
   "cell_type": "code",
   "execution_count": 22,
   "metadata": {
    "scrolled": true
   },
   "outputs": [
    {
     "data": {
      "text/plain": [
       "hr\n",
       "17    336860\n",
       "18    309772\n",
       "8     261001\n",
       "16    227748\n",
       "19    226789\n",
       "13    184919\n",
       "12    184414\n",
       "15    183149\n",
       "14    175652\n",
       "20    164550\n",
       "9     159438\n",
       "7     154171\n",
       "11    151320\n",
       "10    126257\n",
       "21    125445\n",
       "22     95612\n",
       "23     63941\n",
       "6      55132\n",
       "0      39130\n",
       "1      24164\n",
       "2      16352\n",
       "5      14261\n",
       "3       8174\n",
       "4       4428\n",
       "Name: cnt, dtype: int64"
      ]
     },
     "execution_count": 22,
     "metadata": {},
     "output_type": "execute_result"
    }
   ],
   "source": [
    "hour_df.groupby('hr').cnt.sum().sort_values(ascending=False)"
   ]
  },
  {
   "cell_type": "markdown",
   "metadata": {},
   "source": [
    "Didapatkan bahwa puncak jam penggunaan sepeda secara keseluruhan yaitu pada jam 17 atau jam 5 sore."
   ]
  },
  {
   "cell_type": "markdown",
   "metadata": {
    "id": "th_Lzl2Fkj9O"
   },
   "source": [
    "**Insight:**\n",
    "- Jumlah penggunaan sepeda tiap harinya berkisar antara 22 hingga 8714.\n",
    "- Jumlah penggunaan sepeda tiap jamnya berkisar antara 1 hingga 977.\n",
    "- Jam puncak penggunaan sepeda kasual adalah jam 2 siang, sedangkan jam puncak penggunaan sepeda terdaftar adalah jam 5 sore."
   ]
  },
  {
   "cell_type": "markdown",
   "metadata": {
    "id": "zsyZjqak8DC2"
   },
   "source": [
    "## Visualization & Explanatory Analysis"
   ]
  },
  {
   "cell_type": "markdown",
   "metadata": {
    "id": "HZxOiQ6n8DC2"
   },
   "source": [
    "### Pertanyaan 1: Bagaimana pengaruh kondisi cuaca terhadap jumlah penyewaan sepeda?"
   ]
  },
  {
   "cell_type": "markdown",
   "metadata": {},
   "source": [
    "Untuk menjawab pertanyaan pertama, kita perlu membuat sebuah DataFrame baru untuk menampung informasi terkait rata-rata jumlah penyewaan sepeda berdasarkan cuaca."
   ]
  },
  {
   "cell_type": "code",
   "execution_count": 23,
   "metadata": {
    "id": "1swJUdAD8DC2"
   },
   "outputs": [
    {
     "data": {
      "image/png": "[encoded data removed]",
      "text/plain": [
       "<Figure size 800x500 with 1 Axes>"
      ]
     },
     "metadata": {},
     "output_type": "display_data"
    }
   ],
   "source": [
    "weather_rentals = day_df.groupby('weathersit')['cnt'].mean().reset_index()\n",
    "\n",
    "max_rental = weather_rentals['cnt'].max()\n",
    "\n",
    "weather_rentals['highlight'] = weather_rentals['cnt'].apply(lambda x: 'Tertinggi' if x == max_rental else 'Lainnya')\n",
    "\n",
    "plt.figure(figsize=(8, 5))\n",
    "sns.barplot(x='weathersit', y='cnt', hue='highlight', data=weather_rentals, palette={'Tertinggi': '#06C', 'Lainnya': '#A2D9D9'}, legend=False)\n",
    "\n",
    "plt.title('Pengaruh Kondisi Cuaca terhadap Jumlah Penyewaan Sepeda')\n",
    "plt.ylabel(None)\n",
    "plt.xlabel(None)\n",
    "plt.xticks([0, 1, 2, 3], ['Cerah', 'Mendung', 'Gerimis', 'Badai'])\n",
    "\n",
    "plt.show()"
   ]
  },
  {
   "cell_type": "markdown",
   "metadata": {},
   "source": [
    "Berdasarkan visualisasi data tersebut, dapat diketahui bahwa jumlah penyewaan sepeda paling tinggi terjadi pada saat cuaca cerah. Selain itu, dapat diketahui juga pada saat cuaca badai, tidak ada yang menyewa sepeda sama sekali."
   ]
  },
  {
   "cell_type": "markdown",
   "metadata": {
    "id": "DgHI7CiU8DC2"
   },
   "source": [
    "### Pertanyaan 2: Apakah penggunaan sepeda lebih tinggi pada hari kerja atau akhir pekan, dan apakah hari libur berpengaruh terhadap penggunaan?"
   ]
  },
  {
   "cell_type": "markdown",
   "metadata": {},
   "source": [
    "Untuk menjawab pertanyaan kedua, kita perlu membuat sebuah DataFrame baru untuk menampung informasi terkait rata-rata jumlah penyewaan sepeda berdasarkan cuaca."
   ]
  },
  {
   "cell_type": "code",
   "execution_count": 24,
   "metadata": {
    "id": "Go0lCsvO8DC2"
   },
   "outputs": [
    {
     "data": {
      "image/png": "[encoded data removed]",
      "text/plain": [
       "<Figure size 2000x600 with 2 Axes>"
      ]
     },
     "metadata": {},
     "output_type": "display_data"
    }
   ],
   "source": [
    "weekday_summary = day_df.groupby('weekday')['cnt'].mean().reset_index()\n",
    "workingday_summary = day_df.groupby('workingday')['cnt'].mean().reset_index()\n",
    "\n",
    "weekday_max = weekday_summary['cnt'].max()\n",
    "workingday_max = workingday_summary['cnt'].max()\n",
    "\n",
    "weekday_summary['highlight'] = weekday_summary['cnt'].apply(lambda x: 'Tertinggi' if x == weekday_max else 'Lainnya')\n",
    "workingday_summary['highlight'] = workingday_summary['cnt'].apply(lambda x: 'Tertinggi' if x == workingday_max else 'Lainnya')\n",
    "\n",
    "fig, ax = plt.subplots(nrows=1, ncols=2, figsize=(20, 6))\n",
    "\n",
    "sns.barplot(x=\"weekday\", y=\"cnt\", hue='highlight', data=weekday_summary, palette={'Tertinggi': '#06C', 'Lainnya': '#A2D9D9'}, ax=ax[0], legend=False)\n",
    "ax[0].set_ylabel(None)\n",
    "ax[0].set_xlabel(None)\n",
    "ax[0].set_title(\"Penggunaan Sepeda berdasarkan Hari dalam Seminggu\", fontsize=18)\n",
    "ax[0].set_xticks([0, 1, 2, 3, 4, 5, 6])\n",
    "ax[0].set_xticklabels(['Minggu', 'Senin', 'Selasa', 'Rabu', 'Kamis', 'Jumat', 'Sabtu'])\n",
    "ax[0].tick_params(axis='both', labelsize=14)\n",
    "\n",
    "sns.barplot(x=\"workingday\", y=\"cnt\", hue='highlight', data=workingday_summary, palette={'Tertinggi': '#06C', 'Lainnya': '#A2D9D9'}, ax=ax[1], legend=False)\n",
    "ax[1].set_ylabel(None)\n",
    "ax[1].set_xlabel(None)\n",
    "ax[1].set_title(\"Penggunaan Sepeda berdasarkan Hari Kerja\", fontsize=18)\n",
    "ax[1].set_xticks([0, 1])\n",
    "ax[1].set_xticklabels(['Hari Kerja', 'Hari Libur'])\n",
    "ax[1].tick_params(axis='both', labelsize=14)\n",
    "\n",
    "\n",
    "plt.tight_layout()\n",
    "plt.show()"
   ]
  },
  {
   "cell_type": "markdown",
   "metadata": {},
   "source": [
    "Berdasarkan visualisasi data tersebut, dapat diketahui bahwa jumlah penyewaan sepeda paling tinggi terjadi pada saat hari Jumat dan pada hari libur."
   ]
  },
  {
   "cell_type": "markdown",
   "metadata": {
    "id": "_0-36BDLklRg"
   },
   "source": [
    "**Insight:**\n",
    "- Jumlah penyewaan sepeda paling tinggi terjadi pada saaat cuaca cerah dan tidak ada penyewaan sepeda yang terjadi pada saat cuaca badai.\n",
    "- Jumlah penyewaan sepeda paling tinggi dalam seminggu terjadi pada hari Jumat dan jumlah penyewaan sepeda pada hari libur lebih tinggi dibandingkan pada hari kerja."
   ]
  },
  {
   "cell_type": "markdown",
   "metadata": {
    "id": "9y4VUsmcYNZ5"
   },
   "source": [
    "## Analisis Lanjutan (Opsional)"
   ]
  },
  {
   "cell_type": "markdown",
   "metadata": {},
   "source": [
    "Kita ingin melakukan clustering dari data tersebut untuk mencari jumlah penggunaan sepeda berdasarkan kelembaban (hum). \n",
    "Kategori kelembaban ditunjukkan sebagai berikut.\n",
    "- Rendah: 0.0 - 0.4\n",
    "- Sedang: 0.4 - 0.7\n",
    "- Tinggi: 0.7 - 1.0"
   ]
  },
  {
   "cell_type": "markdown",
   "metadata": {},
   "source": [
    "Buat kolom baru dalam DataFrame untuk menunjukkan kategori kelembaban berdasarkan batasan yang telah ditentukan. Hal ini dilakukan dengan memanggil fungsi yang kita buat untuk mengkategorikan data berdasarkan kelembaban."
   ]
  },
  {
   "cell_type": "code",
   "execution_count": 25,
   "metadata": {
    "scrolled": true
   },
   "outputs": [
    {
     "data": {
      "text/html": [
       "<div>\n",
       "<style scoped>\n",
       "    .dataframe tbody tr th:only-of-type {\n",
       "        vertical-align: middle;\n",
       "    }\n",
       "\n",
       "    .dataframe tbody tr th {\n",
       "        vertical-align: top;\n",
       "    }\n",
       "\n",
       "    .dataframe thead th {\n",
       "        text-align: right;\n",
       "    }\n",
       "</style>\n",
       "<table border=\"1\" class=\"dataframe\">\n",
       "  <thead>\n",
       "    <tr style=\"text-align: right;\">\n",
       "      <th></th>\n",
       "      <th>casual</th>\n",
       "      <th>registered</th>\n",
       "      <th>cnt</th>\n",
       "    </tr>\n",
       "    <tr>\n",
       "      <th>hum_category</th>\n",
       "      <th></th>\n",
       "      <th></th>\n",
       "      <th></th>\n",
       "    </tr>\n",
       "  </thead>\n",
       "  <tbody>\n",
       "    <tr>\n",
       "      <th>Rendah</th>\n",
       "      <td>25256</td>\n",
       "      <td>100745</td>\n",
       "      <td>126001</td>\n",
       "    </tr>\n",
       "    <tr>\n",
       "      <th>Sedang</th>\n",
       "      <td>420624</td>\n",
       "      <td>1813398</td>\n",
       "      <td>2234022</td>\n",
       "    </tr>\n",
       "    <tr>\n",
       "      <th>Tinggi</th>\n",
       "      <td>174137</td>\n",
       "      <td>758519</td>\n",
       "      <td>932656</td>\n",
       "    </tr>\n",
       "  </tbody>\n",
       "</table>\n",
       "</div>"
      ],
      "text/plain": [
       "              casual  registered      cnt\n",
       "hum_category                             \n",
       "Rendah         25256      100745   126001\n",
       "Sedang        420624     1813398  2234022\n",
       "Tinggi        174137      758519   932656"
      ]
     },
     "execution_count": 25,
     "metadata": {},
     "output_type": "execute_result"
    }
   ],
   "source": [
    "def categorize_humidity(humidity):\n",
    "    if humidity < 0.4:\n",
    "        return 'Rendah'\n",
    "    elif humidity < 0.7:\n",
    "        return 'Sedang'\n",
    "    else:\n",
    "        return 'Tinggi'\n",
    "\n",
    "day_df['hum_category'] = day_df['hum'].apply(categorize_humidity)\n",
    "\n",
    "day_df.groupby(by=\"hum_category\").agg({\n",
    "    \"casual\": \"sum\",\n",
    "    \"registered\": \"sum\",\n",
    "    \"cnt\": \"sum\",\n",
    "})"
   ]
  },
  {
   "cell_type": "markdown",
   "metadata": {},
   "source": [
    "Kemudian dilakukan visualisasi data dari clustering yang telah dilakukan."
   ]
  },
  {
   "cell_type": "code",
   "execution_count": 26,
   "metadata": {
    "id": "iWhnzsJGYUCO"
   },
   "outputs": [
    {
     "data": {
      "image/png": "[encoded data removed]",
      "text/plain": [
       "<Figure size 1000x600 with 1 Axes>"
      ]
     },
     "metadata": {},
     "output_type": "display_data"
    }
   ],
   "source": [
    "colors = [\"#8BC1F7\", \"#519DE9\", \"#06C\"]\n",
    "\n",
    "plt.figure(figsize=(10, 6))\n",
    "sns.barplot(x='hum_category', y='cnt', data=day_df, hue='hum_category', palette=colors, legend=False, errorbar=None)\n",
    "plt.title('Jumlah Data Berdasarkan Kategori Kelembaban')\n",
    "plt.xlabel(None)\n",
    "plt.ylabel(None)\n",
    "plt.show()"
   ]
  },
  {
   "cell_type": "markdown",
   "metadata": {},
   "source": [
    "Dari visualisasi data tersebut dapat dilihat bahwa jumlah penyewaan sepeda tertinggi terjadi pada saat tingkat kelembaban sedang."
   ]
  },
  {
   "cell_type": "markdown",
   "metadata": {
    "id": "_WeHlCeX8DC2"
   },
   "source": [
    "## Conclusion"
   ]
  },
  {
   "cell_type": "markdown",
   "metadata": {
    "id": "ZTcyR48Y8DC2"
   },
   "source": [
    "- Kondisi cuaca berpengaruh signifikan terhadap jumlah penyewaan sepeda. Dari analisis data, terlihat bahwa jumlah penyewaan sepeda paling tinggi terjadi pada saat cuaca cerah. Sebaliknya, tidak ada penyewaan sepeda yang terjadi pada saat kondisi cuaca badai. Hal ini menunjukkan bahwa faktor cuaca merupakan determinan penting dalam keputusan pengguna untuk menyewa sepeda.\n",
    "- Penggunaan sepeda lebih tinggi pada akhir pekan dibandingkan pada hari kerja. Jumlah penyewaan sepeda paling tinggi dalam seminggu terjadi pada hari Jumat, menunjukkan kecenderungan masyarakat untuk lebih aktif bersepeda menjelang akhir pekan. Selain itu, data menunjukkan bahwa jumlah penyewaan sepeda pada hari libur lebih tinggi dibandingkan dengan hari kerja. Hal ini menunjukkan bahwa pengguna cenderung memanfaatkan waktu luang, seperti hari libur dan akhir pekan, untuk bersepeda."
   ]
  }
 ],
 "metadata": {
  "colab": {
   "provenance": []
  },
  "kernelspec": {
   "display_name": "Python 3 (ipykernel)",
   "language": "python",
   "name": "python3"
  },
  "language_info": {
   "codemirror_mode": {
    "name": "ipython",
    "version": 3
   },
   "file_extension": ".py",
   "mimetype": "text/x-python",
   "name": "python",
   "nbconvert_exporter": "python",
   "pygments_lexer": "ipython3",
   "version": "3.12.6"
  },
  "vscode": {
   "interpreter": {
    "hash": "972b3bf27e332e87b5379f2791f6ef9dfc79c71018c370b0d7423235e20fe4d7"
   }
  }
 },
 "nbformat": 4,
 "nbformat_minor": 4
}
